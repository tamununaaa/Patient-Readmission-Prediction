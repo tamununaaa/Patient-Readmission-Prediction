{
 "cells": [
  {
   "cell_type": "markdown",
   "id": "37bdca1e",
   "metadata": {},
   "source": [
    "## Patient Readmission Prediction"
   ]
  },
  {
   "cell_type": "code",
   "execution_count": 1,
   "id": "d7b36d44",
   "metadata": {},
   "outputs": [],
   "source": [
    "import pandas as pd\n",
    "import numpy as np\n",
    "import matplotlib.pyplot as plt\n",
    "import time"
   ]
  },
  {
   "cell_type": "code",
   "execution_count": 2,
   "id": "fceba073",
   "metadata": {},
   "outputs": [],
   "source": [
    "# load the csv file\n",
    "data_frame = pd.read_csv('diabetic_data.csv')"
   ]
  },
  {
   "cell_type": "code",
   "execution_count": 3,
   "id": "0b07f9c6",
   "metadata": {},
   "outputs": [
    {
     "name": "stdout",
     "output_type": "stream",
     "text": [
      "Number of samples:  101766\n"
     ]
    }
   ],
   "source": [
    "print('Number of samples: ', len(data_frame))"
   ]
  },
  {
   "cell_type": "markdown",
   "id": "262006fe",
   "metadata": {},
   "source": [
    "Overview of the dataset"
   ]
  },
  {
   "cell_type": "code",
   "execution_count": 4,
   "id": "7a9b83a7",
   "metadata": {},
   "outputs": [
    {
     "name": "stdout",
     "output_type": "stream",
     "text": [
      "<class 'pandas.core.frame.DataFrame'>\n",
      "RangeIndex: 101766 entries, 0 to 101765\n",
      "Data columns (total 50 columns):\n",
      " #   Column                    Non-Null Count   Dtype \n",
      "---  ------                    --------------   ----- \n",
      " 0   encounter_id              101766 non-null  int64 \n",
      " 1   patient_nbr               101766 non-null  int64 \n",
      " 2   race                      101766 non-null  object\n",
      " 3   gender                    101766 non-null  object\n",
      " 4   age                       101766 non-null  object\n",
      " 5   weight                    101766 non-null  object\n",
      " 6   admission_type_id         101766 non-null  int64 \n",
      " 7   discharge_disposition_id  101766 non-null  int64 \n",
      " 8   admission_source_id       101766 non-null  int64 \n",
      " 9   time_in_hospital          101766 non-null  int64 \n",
      " 10  payer_code                101766 non-null  object\n",
      " 11  medical_specialty         101766 non-null  object\n",
      " 12  num_lab_procedures        101766 non-null  int64 \n",
      " 13  num_procedures            101766 non-null  int64 \n",
      " 14  num_medications           101766 non-null  int64 \n",
      " 15  number_outpatient         101766 non-null  int64 \n",
      " 16  number_emergency          101766 non-null  int64 \n",
      " 17  number_inpatient          101766 non-null  int64 \n",
      " 18  diag_1                    101766 non-null  object\n",
      " 19  diag_2                    101766 non-null  object\n",
      " 20  diag_3                    101766 non-null  object\n",
      " 21  number_diagnoses          101766 non-null  int64 \n",
      " 22  max_glu_serum             101766 non-null  object\n",
      " 23  A1Cresult                 101766 non-null  object\n",
      " 24  metformin                 101766 non-null  object\n",
      " 25  repaglinide               101766 non-null  object\n",
      " 26  nateglinide               101766 non-null  object\n",
      " 27  chlorpropamide            101766 non-null  object\n",
      " 28  glimepiride               101766 non-null  object\n",
      " 29  acetohexamide             101766 non-null  object\n",
      " 30  glipizide                 101766 non-null  object\n",
      " 31  glyburide                 101766 non-null  object\n",
      " 32  tolbutamide               101766 non-null  object\n",
      " 33  pioglitazone              101766 non-null  object\n",
      " 34  rosiglitazone             101766 non-null  object\n",
      " 35  acarbose                  101766 non-null  object\n",
      " 36  miglitol                  101766 non-null  object\n",
      " 37  troglitazone              101766 non-null  object\n",
      " 38  tolazamide                101766 non-null  object\n",
      " 39  examide                   101766 non-null  object\n",
      " 40  citoglipton               101766 non-null  object\n",
      " 41  insulin                   101766 non-null  object\n",
      " 42  glyburide-metformin       101766 non-null  object\n",
      " 43  glipizide-metformin       101766 non-null  object\n",
      " 44  glimepiride-pioglitazone  101766 non-null  object\n",
      " 45  metformin-rosiglitazone   101766 non-null  object\n",
      " 46  metformin-pioglitazone    101766 non-null  object\n",
      " 47  change                    101766 non-null  object\n",
      " 48  diabetesMed               101766 non-null  object\n",
      " 49  readmitted                101766 non-null  object\n",
      "dtypes: int64(13), object(37)\n",
      "memory usage: 38.8+ MB\n"
     ]
    }
   ],
   "source": [
    "data_frame.info()"
   ]
  },
  {
   "cell_type": "code",
   "execution_count": 5,
   "id": "47d44523",
   "metadata": {},
   "outputs": [
    {
     "data": {
      "text/html": [
       "<div>\n",
       "<style scoped>\n",
       "    .dataframe tbody tr th:only-of-type {\n",
       "        vertical-align: middle;\n",
       "    }\n",
       "\n",
       "    .dataframe tbody tr th {\n",
       "        vertical-align: top;\n",
       "    }\n",
       "\n",
       "    .dataframe thead th {\n",
       "        text-align: right;\n",
       "    }\n",
       "</style>\n",
       "<table border=\"1\" class=\"dataframe\">\n",
       "  <thead>\n",
       "    <tr style=\"text-align: right;\">\n",
       "      <th></th>\n",
       "      <th>encounter_id</th>\n",
       "      <th>patient_nbr</th>\n",
       "      <th>race</th>\n",
       "      <th>gender</th>\n",
       "      <th>age</th>\n",
       "      <th>weight</th>\n",
       "      <th>admission_type_id</th>\n",
       "      <th>discharge_disposition_id</th>\n",
       "      <th>admission_source_id</th>\n",
       "      <th>time_in_hospital</th>\n",
       "      <th>...</th>\n",
       "      <th>citoglipton</th>\n",
       "      <th>insulin</th>\n",
       "      <th>glyburide-metformin</th>\n",
       "      <th>glipizide-metformin</th>\n",
       "      <th>glimepiride-pioglitazone</th>\n",
       "      <th>metformin-rosiglitazone</th>\n",
       "      <th>metformin-pioglitazone</th>\n",
       "      <th>change</th>\n",
       "      <th>diabetesMed</th>\n",
       "      <th>readmitted</th>\n",
       "    </tr>\n",
       "  </thead>\n",
       "  <tbody>\n",
       "    <tr>\n",
       "      <th>0</th>\n",
       "      <td>2278392</td>\n",
       "      <td>8222157</td>\n",
       "      <td>Caucasian</td>\n",
       "      <td>Female</td>\n",
       "      <td>[0-10)</td>\n",
       "      <td>?</td>\n",
       "      <td>6</td>\n",
       "      <td>25</td>\n",
       "      <td>1</td>\n",
       "      <td>1</td>\n",
       "      <td>...</td>\n",
       "      <td>No</td>\n",
       "      <td>No</td>\n",
       "      <td>No</td>\n",
       "      <td>No</td>\n",
       "      <td>No</td>\n",
       "      <td>No</td>\n",
       "      <td>No</td>\n",
       "      <td>No</td>\n",
       "      <td>No</td>\n",
       "      <td>NO</td>\n",
       "    </tr>\n",
       "    <tr>\n",
       "      <th>1</th>\n",
       "      <td>149190</td>\n",
       "      <td>55629189</td>\n",
       "      <td>Caucasian</td>\n",
       "      <td>Female</td>\n",
       "      <td>[10-20)</td>\n",
       "      <td>?</td>\n",
       "      <td>1</td>\n",
       "      <td>1</td>\n",
       "      <td>7</td>\n",
       "      <td>3</td>\n",
       "      <td>...</td>\n",
       "      <td>No</td>\n",
       "      <td>Up</td>\n",
       "      <td>No</td>\n",
       "      <td>No</td>\n",
       "      <td>No</td>\n",
       "      <td>No</td>\n",
       "      <td>No</td>\n",
       "      <td>Ch</td>\n",
       "      <td>Yes</td>\n",
       "      <td>&gt;30</td>\n",
       "    </tr>\n",
       "    <tr>\n",
       "      <th>2</th>\n",
       "      <td>64410</td>\n",
       "      <td>86047875</td>\n",
       "      <td>AfricanAmerican</td>\n",
       "      <td>Female</td>\n",
       "      <td>[20-30)</td>\n",
       "      <td>?</td>\n",
       "      <td>1</td>\n",
       "      <td>1</td>\n",
       "      <td>7</td>\n",
       "      <td>2</td>\n",
       "      <td>...</td>\n",
       "      <td>No</td>\n",
       "      <td>No</td>\n",
       "      <td>No</td>\n",
       "      <td>No</td>\n",
       "      <td>No</td>\n",
       "      <td>No</td>\n",
       "      <td>No</td>\n",
       "      <td>No</td>\n",
       "      <td>Yes</td>\n",
       "      <td>NO</td>\n",
       "    </tr>\n",
       "    <tr>\n",
       "      <th>3</th>\n",
       "      <td>500364</td>\n",
       "      <td>82442376</td>\n",
       "      <td>Caucasian</td>\n",
       "      <td>Male</td>\n",
       "      <td>[30-40)</td>\n",
       "      <td>?</td>\n",
       "      <td>1</td>\n",
       "      <td>1</td>\n",
       "      <td>7</td>\n",
       "      <td>2</td>\n",
       "      <td>...</td>\n",
       "      <td>No</td>\n",
       "      <td>Up</td>\n",
       "      <td>No</td>\n",
       "      <td>No</td>\n",
       "      <td>No</td>\n",
       "      <td>No</td>\n",
       "      <td>No</td>\n",
       "      <td>Ch</td>\n",
       "      <td>Yes</td>\n",
       "      <td>NO</td>\n",
       "    </tr>\n",
       "    <tr>\n",
       "      <th>4</th>\n",
       "      <td>16680</td>\n",
       "      <td>42519267</td>\n",
       "      <td>Caucasian</td>\n",
       "      <td>Male</td>\n",
       "      <td>[40-50)</td>\n",
       "      <td>?</td>\n",
       "      <td>1</td>\n",
       "      <td>1</td>\n",
       "      <td>7</td>\n",
       "      <td>1</td>\n",
       "      <td>...</td>\n",
       "      <td>No</td>\n",
       "      <td>Steady</td>\n",
       "      <td>No</td>\n",
       "      <td>No</td>\n",
       "      <td>No</td>\n",
       "      <td>No</td>\n",
       "      <td>No</td>\n",
       "      <td>Ch</td>\n",
       "      <td>Yes</td>\n",
       "      <td>NO</td>\n",
       "    </tr>\n",
       "  </tbody>\n",
       "</table>\n",
       "<p>5 rows × 50 columns</p>\n",
       "</div>"
      ],
      "text/plain": [
       "   encounter_id  patient_nbr             race  gender      age weight  \\\n",
       "0       2278392      8222157        Caucasian  Female   [0-10)      ?   \n",
       "1        149190     55629189        Caucasian  Female  [10-20)      ?   \n",
       "2         64410     86047875  AfricanAmerican  Female  [20-30)      ?   \n",
       "3        500364     82442376        Caucasian    Male  [30-40)      ?   \n",
       "4         16680     42519267        Caucasian    Male  [40-50)      ?   \n",
       "\n",
       "   admission_type_id  discharge_disposition_id  admission_source_id  \\\n",
       "0                  6                        25                    1   \n",
       "1                  1                         1                    7   \n",
       "2                  1                         1                    7   \n",
       "3                  1                         1                    7   \n",
       "4                  1                         1                    7   \n",
       "\n",
       "   time_in_hospital  ... citoglipton insulin  glyburide-metformin  \\\n",
       "0                 1  ...          No      No                   No   \n",
       "1                 3  ...          No      Up                   No   \n",
       "2                 2  ...          No      No                   No   \n",
       "3                 2  ...          No      Up                   No   \n",
       "4                 1  ...          No  Steady                   No   \n",
       "\n",
       "   glipizide-metformin  glimepiride-pioglitazone  metformin-rosiglitazone  \\\n",
       "0                   No                        No                       No   \n",
       "1                   No                        No                       No   \n",
       "2                   No                        No                       No   \n",
       "3                   No                        No                       No   \n",
       "4                   No                        No                       No   \n",
       "\n",
       "   metformin-pioglitazone  change diabetesMed readmitted  \n",
       "0                      No      No          No         NO  \n",
       "1                      No      Ch         Yes        >30  \n",
       "2                      No      No         Yes         NO  \n",
       "3                      No      Ch         Yes         NO  \n",
       "4                      No      Ch         Yes         NO  \n",
       "\n",
       "[5 rows x 50 columns]"
      ]
     },
     "execution_count": 5,
     "metadata": {},
     "output_type": "execute_result"
    }
   ],
   "source": [
    "data_frame.head()"
   ]
  },
  {
   "cell_type": "markdown",
   "id": "7195c4be",
   "metadata": {},
   "source": [
    "The most important column here is 'readmitted'. This describes if the patient was readmitted withing 30 days, after 30 days or no readmitted. "
   ]
  },
  {
   "cell_type": "code",
   "execution_count": 6,
   "id": "2c70d7c8",
   "metadata": {},
   "outputs": [
    {
     "data": {
      "text/plain": [
       "readmitted\n",
       "<30    11357\n",
       ">30    35545\n",
       "NO     54864\n",
       "dtype: int64"
      ]
     },
     "execution_count": 6,
     "metadata": {},
     "output_type": "execute_result"
    }
   ],
   "source": [
    "data_frame.groupby('readmitted').size()"
   ]
  },
  {
   "cell_type": "markdown",
   "id": "4d0a4d82",
   "metadata": {},
   "source": [
    "Another column that is important is 'discharge_disposition_id', which tells us where the patient went after the hospitalization. "
   ]
  },
  {
   "cell_type": "code",
   "execution_count": 7,
   "id": "53de8184",
   "metadata": {},
   "outputs": [
    {
     "data": {
      "text/plain": [
       "discharge_disposition_id\n",
       "1     60234\n",
       "2      2128\n",
       "3     13954\n",
       "4       815\n",
       "5      1184\n",
       "6     12902\n",
       "7       623\n",
       "8       108\n",
       "9        21\n",
       "10        6\n",
       "11     1642\n",
       "12        3\n",
       "13      399\n",
       "14      372\n",
       "15       63\n",
       "16       11\n",
       "17       14\n",
       "18     3691\n",
       "19        8\n",
       "20        2\n",
       "22     1993\n",
       "23      412\n",
       "24       48\n",
       "25      989\n",
       "27        5\n",
       "28      139\n",
       "dtype: int64"
      ]
     },
     "execution_count": 7,
     "metadata": {},
     "output_type": "execute_result"
    }
   ],
   "source": [
    "data_frame.groupby('discharge_disposition_id').size()"
   ]
  },
  {
   "cell_type": "markdown",
   "id": "f04c7ff7",
   "metadata": {},
   "source": [
    "Mapping the valeus of 'discharge_disposition_id' in IDs_mapping.csv, we can see that 11,13,14,19,20,21 are related to death or hospice. Hence, we need to remove these samples from the predictive model."
   ]
  },
  {
   "cell_type": "code",
   "execution_count": 8,
   "id": "2b147fd4",
   "metadata": {},
   "outputs": [],
   "source": [
    "data_frame = data_frame.loc[~data_frame.discharge_disposition_id.isin([11,13,14,19,20,21])]"
   ]
  },
  {
   "cell_type": "markdown",
   "id": "792030d6",
   "metadata": {},
   "source": [
    "Define an output variable for our binary classification. This will help us predict if a patient is likely to be re-admitted within 30 days of discharge: OUTPUT_LABEL"
   ]
  },
  {
   "cell_type": "code",
   "execution_count": 9,
   "id": "bd56d211",
   "metadata": {},
   "outputs": [
    {
     "data": {
      "text/plain": [
       "array(['NO', '>30', '<30'], dtype=object)"
      ]
     },
     "execution_count": 9,
     "metadata": {},
     "output_type": "execute_result"
    }
   ],
   "source": [
    "data_frame['readmitted'].unique()"
   ]
  },
  {
   "cell_type": "code",
   "execution_count": 10,
   "id": "e72ef2e9",
   "metadata": {},
   "outputs": [],
   "source": [
    "df = data_frame.copy()"
   ]
  },
  {
   "cell_type": "code",
   "execution_count": 11,
   "id": "84bd16d9",
   "metadata": {},
   "outputs": [],
   "source": [
    "df['OUTPUT_LABEL'] = (df.readmitted == '<30').astype('int')\n",
    "#Assigns 1 if readmitted is '<30' and 0 otherwise"
   ]
  },
  {
   "cell_type": "markdown",
   "id": "994294f6",
   "metadata": {},
   "source": [
    "Defining a function to calculate the percentage (prevalence) of people who were readmitted within 30 days."
   ]
  },
  {
   "cell_type": "code",
   "execution_count": 12,
   "id": "f343212d",
   "metadata": {},
   "outputs": [],
   "source": [
    "def calc_prevalence(y_actual):\n",
    "    return (sum(y_actual)/len(y_actual))"
   ]
  },
  {
   "cell_type": "code",
   "execution_count": 13,
   "id": "1b0814b9",
   "metadata": {},
   "outputs": [
    {
     "name": "stdout",
     "output_type": "stream",
     "text": [
      "Prevalence: 0.114\n"
     ]
    }
   ],
   "source": [
    "#print('Prevalence:%.3f'%calc_prevalence(df['OUTPUT_LABEL'].values))\n",
    "print('Prevalence: %.3f' % calc_prevalence(df['OUTPUT_LABEL'].values))"
   ]
  },
  {
   "cell_type": "markdown",
   "id": "527f9d21",
   "metadata": {},
   "source": [
    "Hence, this shows that 11.4% of the population was readmitted. \n",
    "This represented an imbalanced classification problem so we will address that now."
   ]
  },
  {
   "cell_type": "code",
   "execution_count": 14,
   "id": "8d252d0e",
   "metadata": {},
   "outputs": [
    {
     "data": {
      "text/html": [
       "<div>\n",
       "<style scoped>\n",
       "    .dataframe tbody tr th:only-of-type {\n",
       "        vertical-align: middle;\n",
       "    }\n",
       "\n",
       "    .dataframe tbody tr th {\n",
       "        vertical-align: top;\n",
       "    }\n",
       "\n",
       "    .dataframe thead th {\n",
       "        text-align: right;\n",
       "    }\n",
       "</style>\n",
       "<table border=\"1\" class=\"dataframe\">\n",
       "  <thead>\n",
       "    <tr style=\"text-align: right;\">\n",
       "      <th></th>\n",
       "      <th>encounter_id</th>\n",
       "      <th>patient_nbr</th>\n",
       "      <th>race</th>\n",
       "      <th>gender</th>\n",
       "      <th>age</th>\n",
       "      <th>weight</th>\n",
       "      <th>admission_type_id</th>\n",
       "      <th>discharge_disposition_id</th>\n",
       "      <th>admission_source_id</th>\n",
       "      <th>time_in_hospital</th>\n",
       "    </tr>\n",
       "  </thead>\n",
       "  <tbody>\n",
       "    <tr>\n",
       "      <th>0</th>\n",
       "      <td>2278392</td>\n",
       "      <td>8222157</td>\n",
       "      <td>Caucasian</td>\n",
       "      <td>Female</td>\n",
       "      <td>[0-10)</td>\n",
       "      <td>?</td>\n",
       "      <td>6</td>\n",
       "      <td>25</td>\n",
       "      <td>1</td>\n",
       "      <td>1</td>\n",
       "    </tr>\n",
       "    <tr>\n",
       "      <th>1</th>\n",
       "      <td>149190</td>\n",
       "      <td>55629189</td>\n",
       "      <td>Caucasian</td>\n",
       "      <td>Female</td>\n",
       "      <td>[10-20)</td>\n",
       "      <td>?</td>\n",
       "      <td>1</td>\n",
       "      <td>1</td>\n",
       "      <td>7</td>\n",
       "      <td>3</td>\n",
       "    </tr>\n",
       "    <tr>\n",
       "      <th>2</th>\n",
       "      <td>64410</td>\n",
       "      <td>86047875</td>\n",
       "      <td>AfricanAmerican</td>\n",
       "      <td>Female</td>\n",
       "      <td>[20-30)</td>\n",
       "      <td>?</td>\n",
       "      <td>1</td>\n",
       "      <td>1</td>\n",
       "      <td>7</td>\n",
       "      <td>2</td>\n",
       "    </tr>\n",
       "    <tr>\n",
       "      <th>3</th>\n",
       "      <td>500364</td>\n",
       "      <td>82442376</td>\n",
       "      <td>Caucasian</td>\n",
       "      <td>Male</td>\n",
       "      <td>[30-40)</td>\n",
       "      <td>?</td>\n",
       "      <td>1</td>\n",
       "      <td>1</td>\n",
       "      <td>7</td>\n",
       "      <td>2</td>\n",
       "    </tr>\n",
       "    <tr>\n",
       "      <th>4</th>\n",
       "      <td>16680</td>\n",
       "      <td>42519267</td>\n",
       "      <td>Caucasian</td>\n",
       "      <td>Male</td>\n",
       "      <td>[40-50)</td>\n",
       "      <td>?</td>\n",
       "      <td>1</td>\n",
       "      <td>1</td>\n",
       "      <td>7</td>\n",
       "      <td>1</td>\n",
       "    </tr>\n",
       "  </tbody>\n",
       "</table>\n",
       "</div>"
      ],
      "text/plain": [
       "   encounter_id  patient_nbr             race  gender      age weight  \\\n",
       "0       2278392      8222157        Caucasian  Female   [0-10)      ?   \n",
       "1        149190     55629189        Caucasian  Female  [10-20)      ?   \n",
       "2         64410     86047875  AfricanAmerican  Female  [20-30)      ?   \n",
       "3        500364     82442376        Caucasian    Male  [30-40)      ?   \n",
       "4         16680     42519267        Caucasian    Male  [40-50)      ?   \n",
       "\n",
       "   admission_type_id  discharge_disposition_id  admission_source_id  \\\n",
       "0                  6                        25                    1   \n",
       "1                  1                         1                    7   \n",
       "2                  1                         1                    7   \n",
       "3                  1                         1                    7   \n",
       "4                  1                         1                    7   \n",
       "\n",
       "   time_in_hospital  \n",
       "0                 1  \n",
       "1                 3  \n",
       "2                 2  \n",
       "3                 2  \n",
       "4                 1  "
      ]
     },
     "execution_count": 14,
     "metadata": {},
     "output_type": "execute_result"
    }
   ],
   "source": [
    "df[list(df.columns)[:10]].head()"
   ]
  },
  {
   "cell_type": "code",
   "execution_count": 15,
   "id": "6c7e544c",
   "metadata": {},
   "outputs": [
    {
     "data": {
      "text/html": [
       "<div>\n",
       "<style scoped>\n",
       "    .dataframe tbody tr th:only-of-type {\n",
       "        vertical-align: middle;\n",
       "    }\n",
       "\n",
       "    .dataframe tbody tr th {\n",
       "        vertical-align: top;\n",
       "    }\n",
       "\n",
       "    .dataframe thead th {\n",
       "        text-align: right;\n",
       "    }\n",
       "</style>\n",
       "<table border=\"1\" class=\"dataframe\">\n",
       "  <thead>\n",
       "    <tr style=\"text-align: right;\">\n",
       "      <th></th>\n",
       "      <th>payer_code</th>\n",
       "      <th>medical_specialty</th>\n",
       "      <th>num_lab_procedures</th>\n",
       "      <th>num_procedures</th>\n",
       "      <th>num_medications</th>\n",
       "      <th>number_outpatient</th>\n",
       "      <th>number_emergency</th>\n",
       "      <th>number_inpatient</th>\n",
       "      <th>diag_1</th>\n",
       "      <th>diag_2</th>\n",
       "    </tr>\n",
       "  </thead>\n",
       "  <tbody>\n",
       "    <tr>\n",
       "      <th>0</th>\n",
       "      <td>?</td>\n",
       "      <td>Pediatrics-Endocrinology</td>\n",
       "      <td>41</td>\n",
       "      <td>0</td>\n",
       "      <td>1</td>\n",
       "      <td>0</td>\n",
       "      <td>0</td>\n",
       "      <td>0</td>\n",
       "      <td>250.83</td>\n",
       "      <td>?</td>\n",
       "    </tr>\n",
       "    <tr>\n",
       "      <th>1</th>\n",
       "      <td>?</td>\n",
       "      <td>?</td>\n",
       "      <td>59</td>\n",
       "      <td>0</td>\n",
       "      <td>18</td>\n",
       "      <td>0</td>\n",
       "      <td>0</td>\n",
       "      <td>0</td>\n",
       "      <td>276</td>\n",
       "      <td>250.01</td>\n",
       "    </tr>\n",
       "    <tr>\n",
       "      <th>2</th>\n",
       "      <td>?</td>\n",
       "      <td>?</td>\n",
       "      <td>11</td>\n",
       "      <td>5</td>\n",
       "      <td>13</td>\n",
       "      <td>2</td>\n",
       "      <td>0</td>\n",
       "      <td>1</td>\n",
       "      <td>648</td>\n",
       "      <td>250</td>\n",
       "    </tr>\n",
       "    <tr>\n",
       "      <th>3</th>\n",
       "      <td>?</td>\n",
       "      <td>?</td>\n",
       "      <td>44</td>\n",
       "      <td>1</td>\n",
       "      <td>16</td>\n",
       "      <td>0</td>\n",
       "      <td>0</td>\n",
       "      <td>0</td>\n",
       "      <td>8</td>\n",
       "      <td>250.43</td>\n",
       "    </tr>\n",
       "    <tr>\n",
       "      <th>4</th>\n",
       "      <td>?</td>\n",
       "      <td>?</td>\n",
       "      <td>51</td>\n",
       "      <td>0</td>\n",
       "      <td>8</td>\n",
       "      <td>0</td>\n",
       "      <td>0</td>\n",
       "      <td>0</td>\n",
       "      <td>197</td>\n",
       "      <td>157</td>\n",
       "    </tr>\n",
       "  </tbody>\n",
       "</table>\n",
       "</div>"
      ],
      "text/plain": [
       "  payer_code         medical_specialty  num_lab_procedures  num_procedures  \\\n",
       "0          ?  Pediatrics-Endocrinology                  41               0   \n",
       "1          ?                         ?                  59               0   \n",
       "2          ?                         ?                  11               5   \n",
       "3          ?                         ?                  44               1   \n",
       "4          ?                         ?                  51               0   \n",
       "\n",
       "   num_medications  number_outpatient  number_emergency  number_inpatient  \\\n",
       "0                1                  0                 0                 0   \n",
       "1               18                  0                 0                 0   \n",
       "2               13                  2                 0                 1   \n",
       "3               16                  0                 0                 0   \n",
       "4                8                  0                 0                 0   \n",
       "\n",
       "   diag_1  diag_2  \n",
       "0  250.83       ?  \n",
       "1     276  250.01  \n",
       "2     648     250  \n",
       "3       8  250.43  \n",
       "4     197     157  "
      ]
     },
     "execution_count": 15,
     "metadata": {},
     "output_type": "execute_result"
    }
   ],
   "source": [
    "df[list(df.columns)[10:20]].head()"
   ]
  },
  {
   "cell_type": "code",
   "execution_count": 16,
   "id": "977401a6",
   "metadata": {},
   "outputs": [
    {
     "data": {
      "text/html": [
       "<div>\n",
       "<style scoped>\n",
       "    .dataframe tbody tr th:only-of-type {\n",
       "        vertical-align: middle;\n",
       "    }\n",
       "\n",
       "    .dataframe tbody tr th {\n",
       "        vertical-align: top;\n",
       "    }\n",
       "\n",
       "    .dataframe thead th {\n",
       "        text-align: right;\n",
       "    }\n",
       "</style>\n",
       "<table border=\"1\" class=\"dataframe\">\n",
       "  <thead>\n",
       "    <tr style=\"text-align: right;\">\n",
       "      <th></th>\n",
       "      <th>diag_3</th>\n",
       "      <th>number_diagnoses</th>\n",
       "      <th>max_glu_serum</th>\n",
       "      <th>A1Cresult</th>\n",
       "      <th>metformin</th>\n",
       "      <th>repaglinide</th>\n",
       "      <th>nateglinide</th>\n",
       "      <th>chlorpropamide</th>\n",
       "      <th>glimepiride</th>\n",
       "      <th>acetohexamide</th>\n",
       "    </tr>\n",
       "  </thead>\n",
       "  <tbody>\n",
       "    <tr>\n",
       "      <th>0</th>\n",
       "      <td>?</td>\n",
       "      <td>1</td>\n",
       "      <td>None</td>\n",
       "      <td>None</td>\n",
       "      <td>No</td>\n",
       "      <td>No</td>\n",
       "      <td>No</td>\n",
       "      <td>No</td>\n",
       "      <td>No</td>\n",
       "      <td>No</td>\n",
       "    </tr>\n",
       "    <tr>\n",
       "      <th>1</th>\n",
       "      <td>255</td>\n",
       "      <td>9</td>\n",
       "      <td>None</td>\n",
       "      <td>None</td>\n",
       "      <td>No</td>\n",
       "      <td>No</td>\n",
       "      <td>No</td>\n",
       "      <td>No</td>\n",
       "      <td>No</td>\n",
       "      <td>No</td>\n",
       "    </tr>\n",
       "    <tr>\n",
       "      <th>2</th>\n",
       "      <td>V27</td>\n",
       "      <td>6</td>\n",
       "      <td>None</td>\n",
       "      <td>None</td>\n",
       "      <td>No</td>\n",
       "      <td>No</td>\n",
       "      <td>No</td>\n",
       "      <td>No</td>\n",
       "      <td>No</td>\n",
       "      <td>No</td>\n",
       "    </tr>\n",
       "    <tr>\n",
       "      <th>3</th>\n",
       "      <td>403</td>\n",
       "      <td>7</td>\n",
       "      <td>None</td>\n",
       "      <td>None</td>\n",
       "      <td>No</td>\n",
       "      <td>No</td>\n",
       "      <td>No</td>\n",
       "      <td>No</td>\n",
       "      <td>No</td>\n",
       "      <td>No</td>\n",
       "    </tr>\n",
       "    <tr>\n",
       "      <th>4</th>\n",
       "      <td>250</td>\n",
       "      <td>5</td>\n",
       "      <td>None</td>\n",
       "      <td>None</td>\n",
       "      <td>No</td>\n",
       "      <td>No</td>\n",
       "      <td>No</td>\n",
       "      <td>No</td>\n",
       "      <td>No</td>\n",
       "      <td>No</td>\n",
       "    </tr>\n",
       "  </tbody>\n",
       "</table>\n",
       "</div>"
      ],
      "text/plain": [
       "  diag_3  number_diagnoses max_glu_serum A1Cresult metformin repaglinide  \\\n",
       "0      ?                 1          None      None        No          No   \n",
       "1    255                 9          None      None        No          No   \n",
       "2    V27                 6          None      None        No          No   \n",
       "3    403                 7          None      None        No          No   \n",
       "4    250                 5          None      None        No          No   \n",
       "\n",
       "  nateglinide chlorpropamide glimepiride acetohexamide  \n",
       "0          No             No          No            No  \n",
       "1          No             No          No            No  \n",
       "2          No             No          No            No  \n",
       "3          No             No          No            No  \n",
       "4          No             No          No            No  "
      ]
     },
     "execution_count": 16,
     "metadata": {},
     "output_type": "execute_result"
    }
   ],
   "source": [
    "df[list(df.columns)[20:30]].head()"
   ]
  },
  {
   "cell_type": "code",
   "execution_count": 17,
   "id": "c0d90adc",
   "metadata": {},
   "outputs": [
    {
     "data": {
      "text/html": [
       "<div>\n",
       "<style scoped>\n",
       "    .dataframe tbody tr th:only-of-type {\n",
       "        vertical-align: middle;\n",
       "    }\n",
       "\n",
       "    .dataframe tbody tr th {\n",
       "        vertical-align: top;\n",
       "    }\n",
       "\n",
       "    .dataframe thead th {\n",
       "        text-align: right;\n",
       "    }\n",
       "</style>\n",
       "<table border=\"1\" class=\"dataframe\">\n",
       "  <thead>\n",
       "    <tr style=\"text-align: right;\">\n",
       "      <th></th>\n",
       "      <th>glipizide</th>\n",
       "      <th>glyburide</th>\n",
       "      <th>tolbutamide</th>\n",
       "      <th>pioglitazone</th>\n",
       "      <th>rosiglitazone</th>\n",
       "      <th>acarbose</th>\n",
       "      <th>miglitol</th>\n",
       "      <th>troglitazone</th>\n",
       "      <th>tolazamide</th>\n",
       "      <th>examide</th>\n",
       "    </tr>\n",
       "  </thead>\n",
       "  <tbody>\n",
       "    <tr>\n",
       "      <th>0</th>\n",
       "      <td>No</td>\n",
       "      <td>No</td>\n",
       "      <td>No</td>\n",
       "      <td>No</td>\n",
       "      <td>No</td>\n",
       "      <td>No</td>\n",
       "      <td>No</td>\n",
       "      <td>No</td>\n",
       "      <td>No</td>\n",
       "      <td>No</td>\n",
       "    </tr>\n",
       "    <tr>\n",
       "      <th>1</th>\n",
       "      <td>No</td>\n",
       "      <td>No</td>\n",
       "      <td>No</td>\n",
       "      <td>No</td>\n",
       "      <td>No</td>\n",
       "      <td>No</td>\n",
       "      <td>No</td>\n",
       "      <td>No</td>\n",
       "      <td>No</td>\n",
       "      <td>No</td>\n",
       "    </tr>\n",
       "    <tr>\n",
       "      <th>2</th>\n",
       "      <td>Steady</td>\n",
       "      <td>No</td>\n",
       "      <td>No</td>\n",
       "      <td>No</td>\n",
       "      <td>No</td>\n",
       "      <td>No</td>\n",
       "      <td>No</td>\n",
       "      <td>No</td>\n",
       "      <td>No</td>\n",
       "      <td>No</td>\n",
       "    </tr>\n",
       "    <tr>\n",
       "      <th>3</th>\n",
       "      <td>No</td>\n",
       "      <td>No</td>\n",
       "      <td>No</td>\n",
       "      <td>No</td>\n",
       "      <td>No</td>\n",
       "      <td>No</td>\n",
       "      <td>No</td>\n",
       "      <td>No</td>\n",
       "      <td>No</td>\n",
       "      <td>No</td>\n",
       "    </tr>\n",
       "    <tr>\n",
       "      <th>4</th>\n",
       "      <td>Steady</td>\n",
       "      <td>No</td>\n",
       "      <td>No</td>\n",
       "      <td>No</td>\n",
       "      <td>No</td>\n",
       "      <td>No</td>\n",
       "      <td>No</td>\n",
       "      <td>No</td>\n",
       "      <td>No</td>\n",
       "      <td>No</td>\n",
       "    </tr>\n",
       "  </tbody>\n",
       "</table>\n",
       "</div>"
      ],
      "text/plain": [
       "  glipizide glyburide tolbutamide pioglitazone rosiglitazone acarbose  \\\n",
       "0        No        No          No           No            No       No   \n",
       "1        No        No          No           No            No       No   \n",
       "2    Steady        No          No           No            No       No   \n",
       "3        No        No          No           No            No       No   \n",
       "4    Steady        No          No           No            No       No   \n",
       "\n",
       "  miglitol troglitazone tolazamide examide  \n",
       "0       No           No         No      No  \n",
       "1       No           No         No      No  \n",
       "2       No           No         No      No  \n",
       "3       No           No         No      No  \n",
       "4       No           No         No      No  "
      ]
     },
     "execution_count": 17,
     "metadata": {},
     "output_type": "execute_result"
    }
   ],
   "source": [
    "df[list(df.columns)[30:40]].head()"
   ]
  },
  {
   "cell_type": "code",
   "execution_count": 18,
   "id": "1e1295b7",
   "metadata": {},
   "outputs": [
    {
     "data": {
      "text/html": [
       "<div>\n",
       "<style scoped>\n",
       "    .dataframe tbody tr th:only-of-type {\n",
       "        vertical-align: middle;\n",
       "    }\n",
       "\n",
       "    .dataframe tbody tr th {\n",
       "        vertical-align: top;\n",
       "    }\n",
       "\n",
       "    .dataframe thead th {\n",
       "        text-align: right;\n",
       "    }\n",
       "</style>\n",
       "<table border=\"1\" class=\"dataframe\">\n",
       "  <thead>\n",
       "    <tr style=\"text-align: right;\">\n",
       "      <th></th>\n",
       "      <th>citoglipton</th>\n",
       "      <th>insulin</th>\n",
       "      <th>glyburide-metformin</th>\n",
       "      <th>glipizide-metformin</th>\n",
       "      <th>glimepiride-pioglitazone</th>\n",
       "      <th>metformin-rosiglitazone</th>\n",
       "      <th>metformin-pioglitazone</th>\n",
       "      <th>change</th>\n",
       "      <th>diabetesMed</th>\n",
       "      <th>readmitted</th>\n",
       "      <th>OUTPUT_LABEL</th>\n",
       "    </tr>\n",
       "  </thead>\n",
       "  <tbody>\n",
       "    <tr>\n",
       "      <th>0</th>\n",
       "      <td>No</td>\n",
       "      <td>No</td>\n",
       "      <td>No</td>\n",
       "      <td>No</td>\n",
       "      <td>No</td>\n",
       "      <td>No</td>\n",
       "      <td>No</td>\n",
       "      <td>No</td>\n",
       "      <td>No</td>\n",
       "      <td>NO</td>\n",
       "      <td>0</td>\n",
       "    </tr>\n",
       "    <tr>\n",
       "      <th>1</th>\n",
       "      <td>No</td>\n",
       "      <td>Up</td>\n",
       "      <td>No</td>\n",
       "      <td>No</td>\n",
       "      <td>No</td>\n",
       "      <td>No</td>\n",
       "      <td>No</td>\n",
       "      <td>Ch</td>\n",
       "      <td>Yes</td>\n",
       "      <td>&gt;30</td>\n",
       "      <td>0</td>\n",
       "    </tr>\n",
       "    <tr>\n",
       "      <th>2</th>\n",
       "      <td>No</td>\n",
       "      <td>No</td>\n",
       "      <td>No</td>\n",
       "      <td>No</td>\n",
       "      <td>No</td>\n",
       "      <td>No</td>\n",
       "      <td>No</td>\n",
       "      <td>No</td>\n",
       "      <td>Yes</td>\n",
       "      <td>NO</td>\n",
       "      <td>0</td>\n",
       "    </tr>\n",
       "    <tr>\n",
       "      <th>3</th>\n",
       "      <td>No</td>\n",
       "      <td>Up</td>\n",
       "      <td>No</td>\n",
       "      <td>No</td>\n",
       "      <td>No</td>\n",
       "      <td>No</td>\n",
       "      <td>No</td>\n",
       "      <td>Ch</td>\n",
       "      <td>Yes</td>\n",
       "      <td>NO</td>\n",
       "      <td>0</td>\n",
       "    </tr>\n",
       "    <tr>\n",
       "      <th>4</th>\n",
       "      <td>No</td>\n",
       "      <td>Steady</td>\n",
       "      <td>No</td>\n",
       "      <td>No</td>\n",
       "      <td>No</td>\n",
       "      <td>No</td>\n",
       "      <td>No</td>\n",
       "      <td>Ch</td>\n",
       "      <td>Yes</td>\n",
       "      <td>NO</td>\n",
       "      <td>0</td>\n",
       "    </tr>\n",
       "  </tbody>\n",
       "</table>\n",
       "</div>"
      ],
      "text/plain": [
       "  citoglipton insulin glyburide-metformin glipizide-metformin  \\\n",
       "0          No      No                  No                  No   \n",
       "1          No      Up                  No                  No   \n",
       "2          No      No                  No                  No   \n",
       "3          No      Up                  No                  No   \n",
       "4          No  Steady                  No                  No   \n",
       "\n",
       "  glimepiride-pioglitazone metformin-rosiglitazone metformin-pioglitazone  \\\n",
       "0                       No                      No                     No   \n",
       "1                       No                      No                     No   \n",
       "2                       No                      No                     No   \n",
       "3                       No                      No                     No   \n",
       "4                       No                      No                     No   \n",
       "\n",
       "  change diabetesMed readmitted  OUTPUT_LABEL  \n",
       "0     No          No         NO             0  \n",
       "1     Ch         Yes        >30             0  \n",
       "2     No         Yes         NO             0  \n",
       "3     Ch         Yes         NO             0  \n",
       "4     Ch         Yes         NO             0  "
      ]
     },
     "execution_count": 18,
     "metadata": {},
     "output_type": "execute_result"
    }
   ],
   "source": [
    "df[list(df.columns)[40:]].head()"
   ]
  },
  {
   "cell_type": "markdown",
   "id": "5cd07a54",
   "metadata": {},
   "source": [
    "There are a lot of categorical (non-numeric) variables. So let's take a look at the unique values for each column."
   ]
  },
  {
   "cell_type": "code",
   "execution_count": 19,
   "id": "32f85719",
   "metadata": {},
   "outputs": [
    {
     "name": "stdout",
     "output_type": "stream",
     "text": [
      "encounter_id: 99343 unique values\n",
      "patient_nbr: 69990 unique values\n",
      "race\n",
      "['Caucasian' 'AfricanAmerican' '?' 'Other' 'Asian' 'Hispanic']\n",
      "gender\n",
      "['Female' 'Male' 'Unknown/Invalid']\n",
      "age\n",
      "['[0-10)' '[10-20)' '[20-30)' '[30-40)' '[40-50)' '[50-60)' '[60-70)'\n",
      " '[70-80)' '[80-90)' '[90-100)']\n",
      "weight\n",
      "['?' '[75-100)' '[50-75)' '[0-25)' '[100-125)' '[25-50)' '[125-150)'\n",
      " '[175-200)' '[150-175)' '>200']\n",
      "admission_type_id\n",
      "[6 1 2 3 4 5 8 7]\n",
      "discharge_disposition_id\n",
      "[25  1  3  6  2  5  7 10  4 18  8 12 16 17 22 23  9 15 24 28 27]\n",
      "admission_source_id\n",
      "[ 1  7  2  4  5 20  6  3 17  8  9 14 10 22 11 25 13]\n",
      "time_in_hospital\n",
      "[ 1  3  2  4  5 13 12  9  7 10  6 11  8 14]\n",
      "payer_code\n",
      "['?' 'MC' 'MD' 'HM' 'UN' 'BC' 'SP' 'CP' 'SI' 'DM' 'CM' 'CH' 'PO' 'WC' 'OT'\n",
      " 'OG' 'MP' 'FR']\n",
      "medical_specialty: 73 unique values\n",
      "num_lab_procedures: 118 unique values\n",
      "num_procedures\n",
      "[0 5 1 6 2 3 4]\n",
      "num_medications: 75 unique values\n",
      "number_outpatient: 39 unique values\n",
      "number_emergency: 33 unique values\n",
      "number_inpatient\n",
      "[ 0  1  2  3  6  5  4  7  9  8 15 10 11 14 12 13 17 16 21 18 19]\n",
      "diag_1: 716 unique values\n",
      "diag_2: 748 unique values\n",
      "diag_3: 787 unique values\n",
      "number_diagnoses\n",
      "[ 1  9  6  7  5  8  3  4  2 16 12 13 15 10 11 14]\n",
      "max_glu_serum\n",
      "['None' '>300' 'Norm' '>200']\n",
      "A1Cresult\n",
      "['None' '>7' '>8' 'Norm']\n",
      "metformin\n",
      "['No' 'Steady' 'Up' 'Down']\n",
      "repaglinide\n",
      "['No' 'Up' 'Steady' 'Down']\n",
      "nateglinide\n",
      "['No' 'Steady' 'Down' 'Up']\n",
      "chlorpropamide\n",
      "['No' 'Steady' 'Down' 'Up']\n",
      "glimepiride\n",
      "['No' 'Steady' 'Down' 'Up']\n",
      "acetohexamide\n",
      "['No' 'Steady']\n",
      "glipizide\n",
      "['No' 'Steady' 'Up' 'Down']\n",
      "glyburide\n",
      "['No' 'Steady' 'Up' 'Down']\n",
      "tolbutamide\n",
      "['No' 'Steady']\n",
      "pioglitazone\n",
      "['No' 'Steady' 'Up' 'Down']\n",
      "rosiglitazone\n",
      "['No' 'Steady' 'Up' 'Down']\n",
      "acarbose\n",
      "['No' 'Steady' 'Up' 'Down']\n",
      "miglitol\n",
      "['No' 'Steady' 'Down' 'Up']\n",
      "troglitazone\n",
      "['No' 'Steady']\n",
      "tolazamide\n",
      "['No' 'Steady' 'Up']\n",
      "examide\n",
      "['No']\n",
      "citoglipton\n",
      "['No']\n",
      "insulin\n",
      "['No' 'Up' 'Steady' 'Down']\n",
      "glyburide-metformin\n",
      "['No' 'Steady' 'Down' 'Up']\n",
      "glipizide-metformin\n",
      "['No' 'Steady']\n",
      "glimepiride-pioglitazone\n",
      "['No' 'Steady']\n",
      "metformin-rosiglitazone\n",
      "['No' 'Steady']\n",
      "metformin-pioglitazone\n",
      "['No' 'Steady']\n",
      "change\n",
      "['No' 'Ch']\n",
      "diabetesMed\n",
      "['No' 'Yes']\n",
      "readmitted\n",
      "['NO' '>30' '<30']\n",
      "OUTPUT_LABEL\n",
      "[0 1]\n"
     ]
    }
   ],
   "source": [
    "# for each column\n",
    "for c in list(df.columns):\n",
    "    \n",
    "    # get a list of unique values\n",
    "    n = df[c].unique()\n",
    "    \n",
    "    # if number of unique values is less than 30, print the values. Otherwise print the number of unique values\n",
    "    if len(n)<30:\n",
    "        print(c)\n",
    "        print(n)\n",
    "    else:\n",
    "        print(c + ': ' +str(len(n)) + ' unique values')"
   ]
  },
  {
   "cell_type": "markdown",
   "id": "9b9c3daf",
   "metadata": {},
   "source": [
    "On analysing these values, we observe that:\n",
    "- encounter_id and patient_nbr: these are just identifiers and not useful variables\n",
    "- examide and citoglipton only have 1 value, so we will not use these variables\n",
    "- diag1, diag2, diag3 - are categorical and have a lot of values. We will not use these as part of this project, but you could group these ICD codes to reduce the dimension. We will use number_diagnoses to capture some of this information.\n",
    "- age and weight: are categorical in this data set\n",
    "- admission_type_id, discharge_disposition_id, admission_source_id: are numerical here, but are IDs (as per IDs_mapping). So they should be considered categorical. \n",
    "- medical_speciality - has many categorical variables, so we should consider this when making features. "
   ]
  },
  {
   "cell_type": "markdown",
   "id": "02f6c261",
   "metadata": {},
   "source": [
    "## Feature Engineering"
   ]
  },
  {
   "cell_type": "markdown",
   "id": "fe22a147",
   "metadata": {},
   "source": [
    "The dataset comprises of many missing values denoted by '?'. So we will replace it by NaN."
   ]
  },
  {
   "cell_type": "code",
   "execution_count": 20,
   "id": "5d232356",
   "metadata": {},
   "outputs": [],
   "source": [
    "df = df.replace('?', np.nan)"
   ]
  },
  {
   "cell_type": "markdown",
   "id": "19bd2ae2",
   "metadata": {},
   "source": [
    "### Numerical Features"
   ]
  },
  {
   "cell_type": "code",
   "execution_count": 21,
   "id": "2d430d24",
   "metadata": {},
   "outputs": [],
   "source": [
    "cols_num = ['time_in_hospital','num_lab_procedures', 'num_procedures', 'num_medications',\n",
    "       'number_outpatient', 'number_emergency', 'number_inpatient','number_diagnoses']"
   ]
  },
  {
   "cell_type": "code",
   "execution_count": 22,
   "id": "4b17a47d",
   "metadata": {},
   "outputs": [
    {
     "data": {
      "text/plain": [
       "time_in_hospital      0\n",
       "num_lab_procedures    0\n",
       "num_procedures        0\n",
       "num_medications       0\n",
       "number_outpatient     0\n",
       "number_emergency      0\n",
       "number_inpatient      0\n",
       "number_diagnoses      0\n",
       "dtype: int64"
      ]
     },
     "execution_count": 22,
     "metadata": {},
     "output_type": "execute_result"
    }
   ],
   "source": [
    "df[cols_num].isnull().sum()\n",
    "# To check if these columns have any missing values"
   ]
  },
  {
   "cell_type": "markdown",
   "id": "69d24b43",
   "metadata": {},
   "source": [
    "### Categorical Features"
   ]
  },
  {
   "cell_type": "code",
   "execution_count": 23,
   "id": "175c3d5e",
   "metadata": {},
   "outputs": [],
   "source": [
    "cols_cat = ['race', 'gender', 'max_glu_serum', 'A1Cresult',\n",
    "       'metformin', 'repaglinide', 'nateglinide', 'chlorpropamide',\n",
    "       'glimepiride', 'acetohexamide', 'glipizide', 'glyburide', 'tolbutamide',\n",
    "       'pioglitazone', 'rosiglitazone', 'acarbose', 'miglitol', 'troglitazone',\n",
    "       'tolazamide', 'insulin',\n",
    "       'glyburide-metformin', 'glipizide-metformin',\n",
    "       'glimepiride-pioglitazone', 'metformin-rosiglitazone',\n",
    "       'metformin-pioglitazone', 'change', 'diabetesMed','payer_code']"
   ]
  },
  {
   "cell_type": "code",
   "execution_count": 24,
   "id": "a2637658",
   "metadata": {},
   "outputs": [
    {
     "data": {
      "text/plain": [
       "race                         2234\n",
       "gender                          0\n",
       "max_glu_serum                   0\n",
       "A1Cresult                       0\n",
       "metformin                       0\n",
       "repaglinide                     0\n",
       "nateglinide                     0\n",
       "chlorpropamide                  0\n",
       "glimepiride                     0\n",
       "acetohexamide                   0\n",
       "glipizide                       0\n",
       "glyburide                       0\n",
       "tolbutamide                     0\n",
       "pioglitazone                    0\n",
       "rosiglitazone                   0\n",
       "acarbose                        0\n",
       "miglitol                        0\n",
       "troglitazone                    0\n",
       "tolazamide                      0\n",
       "insulin                         0\n",
       "glyburide-metformin             0\n",
       "glipizide-metformin             0\n",
       "glimepiride-pioglitazone        0\n",
       "metformin-rosiglitazone         0\n",
       "metformin-pioglitazone          0\n",
       "change                          0\n",
       "diabetesMed                     0\n",
       "payer_code                  39398\n",
       "dtype: int64"
      ]
     },
     "execution_count": 24,
     "metadata": {},
     "output_type": "execute_result"
    }
   ],
   "source": [
    "df[cols_cat].isnull().sum()\n",
    "# To check if these columns have any missing values"
   ]
  },
  {
   "cell_type": "markdown",
   "id": "837b8e0d",
   "metadata": {},
   "source": [
    "race, payer_code, and medical_specialty have missing data. Since these are categorical data, the best thing to do is to just add another categorical type for unknown using the fillna function."
   ]
  },
  {
   "cell_type": "code",
   "execution_count": 25,
   "id": "631583b8",
   "metadata": {},
   "outputs": [],
   "source": [
    "df['race'] = df['race'].fillna('UNK')\n",
    "df['payer_code'] = df['payer_code'].fillna('UNK')\n",
    "df['medical_specialty'] = df['medical_specialty'].fillna('UNK')"
   ]
  },
  {
   "cell_type": "code",
   "execution_count": 26,
   "id": "9ee408f7",
   "metadata": {},
   "outputs": [
    {
     "name": "stdout",
     "output_type": "stream",
     "text": [
      "Number medical specialty: 73\n"
     ]
    },
    {
     "data": {
      "text/plain": [
       "medical_specialty\n",
       "UNK                                 48616\n",
       "InternalMedicine                    14237\n",
       "Emergency/Trauma                     7419\n",
       "Family/GeneralPractice               7252\n",
       "Cardiology                           5279\n",
       "                                    ...  \n",
       "Surgery-PlasticwithinHeadandNeck        1\n",
       "Dermatology                             1\n",
       "Proctology                              1\n",
       "Psychiatry-Addictive                    1\n",
       "Speech                                  1\n",
       "Length: 73, dtype: int64"
      ]
     },
     "execution_count": 26,
     "metadata": {},
     "output_type": "execute_result"
    }
   ],
   "source": [
    "print('Number medical specialty:', df.medical_specialty.nunique())\n",
    "df.groupby('medical_specialty').size().sort_values(ascending = False)"
   ]
  },
  {
   "cell_type": "markdown",
   "id": "b21ccd15",
   "metadata": {},
   "source": [
    "We can see that most of them are unknown and that the count drops off pretty quickly. \n",
    "We don't want to add 73 new variables since some of them only have a few samples. As an alternative, we can create a new variable that only has 11 options (the top 10 specialities and then an other category)."
   ]
  },
  {
   "cell_type": "code",
   "execution_count": 27,
   "id": "0ed77885",
   "metadata": {},
   "outputs": [],
   "source": [
    "top_10 = ['UNK','InternalMedicine','Emergency/Trauma',\\\n",
    "          'Family/GeneralPractice', 'Cardiology','Surgery-General' ,\\\n",
    "          'Nephrology','Orthopedics',\\\n",
    "          'Orthopedics-Reconstructive','Radiologist']\n",
    "\n",
    "# make a new column with duplicated data\n",
    "df['med_spec'] = df['medical_specialty'].copy()\n",
    "\n",
    "# replace all specialties not in top 10 with 'Other' category\n",
    "df.loc[~df.med_spec.isin(top_10),'med_spec'] = 'Other'"
   ]
  },
  {
   "cell_type": "code",
   "execution_count": 28,
   "id": "cd0a54e9",
   "metadata": {},
   "outputs": [
    {
     "data": {
      "text/plain": [
       "med_spec\n",
       "Cardiology                     5279\n",
       "Emergency/Trauma               7419\n",
       "Family/GeneralPractice         7252\n",
       "InternalMedicine              14237\n",
       "Nephrology                     1539\n",
       "Orthopedics                    1392\n",
       "Orthopedics-Reconstructive     1230\n",
       "Other                          8199\n",
       "Radiologist                    1121\n",
       "Surgery-General                3059\n",
       "UNK                           48616\n",
       "dtype: int64"
      ]
     },
     "execution_count": 28,
     "metadata": {},
     "output_type": "execute_result"
    }
   ],
   "source": [
    "df.groupby('med_spec').size()"
   ]
  },
  {
   "cell_type": "markdown",
   "id": "8bb0c861",
   "metadata": {},
   "source": [
    "To convert these categorical features to numbers, we will use a technique called one-hot encoding. \n",
    "To deal with this, we can use the drop_first option, which will drop the first categorical value for each column.\n",
    "\n",
    "The get_dummies function does not work on numerical data. To trick get_dummies, we can convert the numerical data into strings and then it will work properly."
   ]
  },
  {
   "cell_type": "code",
   "execution_count": 29,
   "id": "b52d746c",
   "metadata": {},
   "outputs": [],
   "source": [
    "cols_cat_num = ['admission_type_id', 'discharge_disposition_id', 'admission_source_id']\n",
    "df[cols_cat_num] = df[cols_cat_num].astype('str')"
   ]
  },
  {
   "cell_type": "markdown",
   "id": "81552a1b",
   "metadata": {},
   "source": [
    "Now, we will create all the categorical features"
   ]
  },
  {
   "cell_type": "code",
   "execution_count": 30,
   "id": "d271d45c",
   "metadata": {},
   "outputs": [],
   "source": [
    "df_cat = pd.get_dummies(df[cols_cat + cols_cat_num + ['med_spec']],drop_first = True)"
   ]
  },
  {
   "cell_type": "code",
   "execution_count": 31,
   "id": "e0db8c33",
   "metadata": {},
   "outputs": [
    {
     "data": {
      "text/html": [
       "<div>\n",
       "<style scoped>\n",
       "    .dataframe tbody tr th:only-of-type {\n",
       "        vertical-align: middle;\n",
       "    }\n",
       "\n",
       "    .dataframe tbody tr th {\n",
       "        vertical-align: top;\n",
       "    }\n",
       "\n",
       "    .dataframe thead th {\n",
       "        text-align: right;\n",
       "    }\n",
       "</style>\n",
       "<table border=\"1\" class=\"dataframe\">\n",
       "  <thead>\n",
       "    <tr style=\"text-align: right;\">\n",
       "      <th></th>\n",
       "      <th>race_Asian</th>\n",
       "      <th>race_Caucasian</th>\n",
       "      <th>race_Hispanic</th>\n",
       "      <th>race_Other</th>\n",
       "      <th>race_UNK</th>\n",
       "      <th>gender_Male</th>\n",
       "      <th>gender_Unknown/Invalid</th>\n",
       "      <th>max_glu_serum_&gt;300</th>\n",
       "      <th>max_glu_serum_None</th>\n",
       "      <th>max_glu_serum_Norm</th>\n",
       "      <th>...</th>\n",
       "      <th>med_spec_Emergency/Trauma</th>\n",
       "      <th>med_spec_Family/GeneralPractice</th>\n",
       "      <th>med_spec_InternalMedicine</th>\n",
       "      <th>med_spec_Nephrology</th>\n",
       "      <th>med_spec_Orthopedics</th>\n",
       "      <th>med_spec_Orthopedics-Reconstructive</th>\n",
       "      <th>med_spec_Other</th>\n",
       "      <th>med_spec_Radiologist</th>\n",
       "      <th>med_spec_Surgery-General</th>\n",
       "      <th>med_spec_UNK</th>\n",
       "    </tr>\n",
       "  </thead>\n",
       "  <tbody>\n",
       "    <tr>\n",
       "      <th>0</th>\n",
       "      <td>0</td>\n",
       "      <td>1</td>\n",
       "      <td>0</td>\n",
       "      <td>0</td>\n",
       "      <td>0</td>\n",
       "      <td>0</td>\n",
       "      <td>0</td>\n",
       "      <td>0</td>\n",
       "      <td>1</td>\n",
       "      <td>0</td>\n",
       "      <td>...</td>\n",
       "      <td>0</td>\n",
       "      <td>0</td>\n",
       "      <td>0</td>\n",
       "      <td>0</td>\n",
       "      <td>0</td>\n",
       "      <td>0</td>\n",
       "      <td>1</td>\n",
       "      <td>0</td>\n",
       "      <td>0</td>\n",
       "      <td>0</td>\n",
       "    </tr>\n",
       "    <tr>\n",
       "      <th>1</th>\n",
       "      <td>0</td>\n",
       "      <td>1</td>\n",
       "      <td>0</td>\n",
       "      <td>0</td>\n",
       "      <td>0</td>\n",
       "      <td>0</td>\n",
       "      <td>0</td>\n",
       "      <td>0</td>\n",
       "      <td>1</td>\n",
       "      <td>0</td>\n",
       "      <td>...</td>\n",
       "      <td>0</td>\n",
       "      <td>0</td>\n",
       "      <td>0</td>\n",
       "      <td>0</td>\n",
       "      <td>0</td>\n",
       "      <td>0</td>\n",
       "      <td>0</td>\n",
       "      <td>0</td>\n",
       "      <td>0</td>\n",
       "      <td>1</td>\n",
       "    </tr>\n",
       "    <tr>\n",
       "      <th>2</th>\n",
       "      <td>0</td>\n",
       "      <td>0</td>\n",
       "      <td>0</td>\n",
       "      <td>0</td>\n",
       "      <td>0</td>\n",
       "      <td>0</td>\n",
       "      <td>0</td>\n",
       "      <td>0</td>\n",
       "      <td>1</td>\n",
       "      <td>0</td>\n",
       "      <td>...</td>\n",
       "      <td>0</td>\n",
       "      <td>0</td>\n",
       "      <td>0</td>\n",
       "      <td>0</td>\n",
       "      <td>0</td>\n",
       "      <td>0</td>\n",
       "      <td>0</td>\n",
       "      <td>0</td>\n",
       "      <td>0</td>\n",
       "      <td>1</td>\n",
       "    </tr>\n",
       "    <tr>\n",
       "      <th>3</th>\n",
       "      <td>0</td>\n",
       "      <td>1</td>\n",
       "      <td>0</td>\n",
       "      <td>0</td>\n",
       "      <td>0</td>\n",
       "      <td>1</td>\n",
       "      <td>0</td>\n",
       "      <td>0</td>\n",
       "      <td>1</td>\n",
       "      <td>0</td>\n",
       "      <td>...</td>\n",
       "      <td>0</td>\n",
       "      <td>0</td>\n",
       "      <td>0</td>\n",
       "      <td>0</td>\n",
       "      <td>0</td>\n",
       "      <td>0</td>\n",
       "      <td>0</td>\n",
       "      <td>0</td>\n",
       "      <td>0</td>\n",
       "      <td>1</td>\n",
       "    </tr>\n",
       "    <tr>\n",
       "      <th>4</th>\n",
       "      <td>0</td>\n",
       "      <td>1</td>\n",
       "      <td>0</td>\n",
       "      <td>0</td>\n",
       "      <td>0</td>\n",
       "      <td>1</td>\n",
       "      <td>0</td>\n",
       "      <td>0</td>\n",
       "      <td>1</td>\n",
       "      <td>0</td>\n",
       "      <td>...</td>\n",
       "      <td>0</td>\n",
       "      <td>0</td>\n",
       "      <td>0</td>\n",
       "      <td>0</td>\n",
       "      <td>0</td>\n",
       "      <td>0</td>\n",
       "      <td>0</td>\n",
       "      <td>0</td>\n",
       "      <td>0</td>\n",
       "      <td>1</td>\n",
       "    </tr>\n",
       "  </tbody>\n",
       "</table>\n",
       "<p>5 rows × 133 columns</p>\n",
       "</div>"
      ],
      "text/plain": [
       "   race_Asian  race_Caucasian  race_Hispanic  race_Other  race_UNK  \\\n",
       "0           0               1              0           0         0   \n",
       "1           0               1              0           0         0   \n",
       "2           0               0              0           0         0   \n",
       "3           0               1              0           0         0   \n",
       "4           0               1              0           0         0   \n",
       "\n",
       "   gender_Male  gender_Unknown/Invalid  max_glu_serum_>300  \\\n",
       "0            0                       0                   0   \n",
       "1            0                       0                   0   \n",
       "2            0                       0                   0   \n",
       "3            1                       0                   0   \n",
       "4            1                       0                   0   \n",
       "\n",
       "   max_glu_serum_None  max_glu_serum_Norm  ...  med_spec_Emergency/Trauma  \\\n",
       "0                   1                   0  ...                          0   \n",
       "1                   1                   0  ...                          0   \n",
       "2                   1                   0  ...                          0   \n",
       "3                   1                   0  ...                          0   \n",
       "4                   1                   0  ...                          0   \n",
       "\n",
       "   med_spec_Family/GeneralPractice  med_spec_InternalMedicine  \\\n",
       "0                                0                          0   \n",
       "1                                0                          0   \n",
       "2                                0                          0   \n",
       "3                                0                          0   \n",
       "4                                0                          0   \n",
       "\n",
       "   med_spec_Nephrology  med_spec_Orthopedics  \\\n",
       "0                    0                     0   \n",
       "1                    0                     0   \n",
       "2                    0                     0   \n",
       "3                    0                     0   \n",
       "4                    0                     0   \n",
       "\n",
       "   med_spec_Orthopedics-Reconstructive  med_spec_Other  med_spec_Radiologist  \\\n",
       "0                                    0               1                     0   \n",
       "1                                    0               0                     0   \n",
       "2                                    0               0                     0   \n",
       "3                                    0               0                     0   \n",
       "4                                    0               0                     0   \n",
       "\n",
       "   med_spec_Surgery-General  med_spec_UNK  \n",
       "0                         0             0  \n",
       "1                         0             1  \n",
       "2                         0             1  \n",
       "3                         0             1  \n",
       "4                         0             1  \n",
       "\n",
       "[5 rows x 133 columns]"
      ]
     },
     "execution_count": 31,
     "metadata": {},
     "output_type": "execute_result"
    }
   ],
   "source": [
    "df_cat.head()"
   ]
  },
  {
   "cell_type": "markdown",
   "id": "8eb1f01a",
   "metadata": {},
   "source": [
    "Adding the one-hot encoding columns to the dataframe."
   ]
  },
  {
   "cell_type": "code",
   "execution_count": 32,
   "id": "933115af",
   "metadata": {},
   "outputs": [],
   "source": [
    "df = pd.concat([df,df_cat], axis = 1)"
   ]
  },
  {
   "cell_type": "code",
   "execution_count": 33,
   "id": "e47c1531",
   "metadata": {},
   "outputs": [],
   "source": [
    "cols_all_cat = list(df_cat.columns)"
   ]
  },
  {
   "cell_type": "markdown",
   "id": "67a43a5f",
   "metadata": {},
   "source": [
    "### Extra features"
   ]
  },
  {
   "cell_type": "markdown",
   "id": "5540dd82",
   "metadata": {},
   "source": [
    "For the columns 'age' and 'weight', these should ideally be numerical. But in this case, \n",
    "- 'age' has categorical values and so we convert them into numerical values.\n",
    "- 'weight' has empty and null values, so we "
   ]
  },
  {
   "cell_type": "code",
   "execution_count": 34,
   "id": "3a02a2d5",
   "metadata": {},
   "outputs": [
    {
     "data": {
      "text/plain": [
       "age\n",
       "[0-10)        160\n",
       "[10-20)       690\n",
       "[20-30)      1649\n",
       "[30-40)      3764\n",
       "[40-50)      9607\n",
       "[50-60)     17060\n",
       "[60-70)     22059\n",
       "[70-80)     25331\n",
       "[80-90)     16434\n",
       "[90-100)     2589\n",
       "dtype: int64"
      ]
     },
     "execution_count": 34,
     "metadata": {},
     "output_type": "execute_result"
    }
   ],
   "source": [
    "df.groupby('age').size()"
   ]
  },
  {
   "cell_type": "markdown",
   "id": "4e3df59c",
   "metadata": {},
   "source": [
    "Let's map these to 0-9 for the numerical data."
   ]
  },
  {
   "cell_type": "code",
   "execution_count": 35,
   "id": "e09297fb",
   "metadata": {},
   "outputs": [
    {
     "data": {
      "text/plain": [
       "3125"
      ]
     },
     "execution_count": 35,
     "metadata": {},
     "output_type": "execute_result"
    }
   ],
   "source": [
    "age_id = {'[0-10)':0, \n",
    "          '[10-20)':10, \n",
    "          '[20-30)':20, \n",
    "          '[30-40)':30, \n",
    "          '[40-50)':40, \n",
    "          '[50-60)':50,\n",
    "          '[60-70)':60, \n",
    "          '[70-80)':70, \n",
    "          '[80-90)':80, \n",
    "          '[90-100)':90}\n",
    "df['age_group'] = df.age.replace(age_id)\n",
    "df.weight.notnull().sum()"
   ]
  },
  {
   "cell_type": "markdown",
   "id": "aee0f511",
   "metadata": {},
   "source": [
    "Now we create a variable to say if weight was filled out or not. The presence of a variable might be predictive regardless of the value."
   ]
  },
  {
   "cell_type": "code",
   "execution_count": 36,
   "id": "1c201ebe",
   "metadata": {},
   "outputs": [],
   "source": [
    "df['has_weight'] = df.weight.notnull().astype('int')"
   ]
  },
  {
   "cell_type": "code",
   "execution_count": 37,
   "id": "a761cb25",
   "metadata": {},
   "outputs": [],
   "source": [
    "cols_extra = ['age_group','has_weight']"
   ]
  },
  {
   "cell_type": "markdown",
   "id": "ae3ea4b3",
   "metadata": {},
   "source": [
    "### Engineering Features Summary"
   ]
  },
  {
   "cell_type": "code",
   "execution_count": 38,
   "id": "2bb60ea3",
   "metadata": {},
   "outputs": [
    {
     "name": "stdout",
     "output_type": "stream",
     "text": [
      "Total number of features: 143\n",
      "Numerical Features: 8\n",
      "Categorical Features: 133\n",
      "Extra features: 2\n"
     ]
    }
   ],
   "source": [
    "print('Total number of features:', len(cols_num + cols_all_cat + cols_extra))\n",
    "print('Numerical Features:',len(cols_num))\n",
    "print('Categorical Features:',len(cols_all_cat))\n",
    "print('Extra features:',len(cols_extra))"
   ]
  },
  {
   "cell_type": "code",
   "execution_count": 39,
   "id": "d6944554",
   "metadata": {},
   "outputs": [
    {
     "data": {
      "text/plain": [
       "time_in_hospital               0\n",
       "discharge_disposition_id_16    0\n",
       "admission_type_id_6            0\n",
       "admission_type_id_7            0\n",
       "admission_type_id_8            0\n",
       "discharge_disposition_id_10    0\n",
       "discharge_disposition_id_12    0\n",
       "discharge_disposition_id_15    0\n",
       "discharge_disposition_id_17    0\n",
       "admission_type_id_4            0\n",
       "dtype: int64"
      ]
     },
     "execution_count": 39,
     "metadata": {},
     "output_type": "execute_result"
    }
   ],
   "source": [
    "df[cols_num + cols_all_cat + cols_extra].isnull().sum().sort_values(ascending = False).head(10)\n",
    "#Checking if we are missing any data"
   ]
  },
  {
   "cell_type": "markdown",
   "id": "72ee3aae",
   "metadata": {},
   "source": [
    "Creating a dataframe that has only necessary columns"
   ]
  },
  {
   "cell_type": "code",
   "execution_count": 40,
   "id": "9edd40a5",
   "metadata": {},
   "outputs": [],
   "source": [
    "new_df = cols_num + cols_all_cat + cols_extra\n",
    "df_data = df[new_df + ['OUTPUT_LABEL']]"
   ]
  },
  {
   "cell_type": "markdown",
   "id": "c8a71ef3",
   "metadata": {},
   "source": [
    "Now that we have explored our data and created features from the categorical data, we will split our data to measure how well the model would work"
   ]
  },
  {
   "cell_type": "markdown",
   "id": "fe24a8d3",
   "metadata": {},
   "source": [
    "### Building Training/Validation/Test Samples "
   ]
  },
  {
   "cell_type": "markdown",
   "id": "df28f921",
   "metadata": {},
   "source": [
    "We split our data into three parts: \n",
    "- Training samples: these samples are used to train the model \n",
    "- Validation samples: these samples are held out from the training data and are used to make decisions on how to improve the model \n",
    "- Test samples: these samples are held out from all decisions and are used to measure the generalized performance of the model\n",
    "\n",
    "In this project, we will split into 70% train, 15% validation, 15% test.\n",
    "\n",
    "First we'll shuffle the samples, in case there was an order. "
   ]
  },
  {
   "cell_type": "code",
   "execution_count": 41,
   "id": "46d222c0",
   "metadata": {},
   "outputs": [],
   "source": [
    "df_data = df_data.sample(n = len(df_data), random_state = 42)\n",
    "df_data = df_data.reset_index(drop = True)\n",
    "# random_state is just specified so the entire class gets the same shuffling. "
   ]
  },
  {
   "cell_type": "markdown",
   "id": "7269fd7b",
   "metadata": {},
   "source": [
    "Extract 30% for Validation & Test"
   ]
  },
  {
   "cell_type": "code",
   "execution_count": 42,
   "id": "c01048d0",
   "metadata": {},
   "outputs": [
    {
     "name": "stdout",
     "output_type": "stream",
     "text": [
      "Split size: 0.300\n"
     ]
    }
   ],
   "source": [
    "df_valid_test = df_data.sample(frac=0.30, random_state=42)\n",
    "print('Split size: %.3f' % (len(df_valid_test) / len(df_data)))"
   ]
  },
  {
   "cell_type": "markdown",
   "id": "a41fbe94",
   "metadata": {},
   "source": [
    "Split Validation & Test (15% each)"
   ]
  },
  {
   "cell_type": "code",
   "execution_count": 43,
   "id": "9078a623",
   "metadata": {},
   "outputs": [],
   "source": [
    "df_test = df_valid_test.sample(frac=0.5, random_state=42)\n",
    "df_valid = df_valid_test.drop(df_test.index)"
   ]
  },
  {
   "cell_type": "code",
   "execution_count": 44,
   "id": "887778bc",
   "metadata": {},
   "outputs": [],
   "source": [
    "# use the rest of the data as training data\n",
    "df_train_all=df_data.drop(df_valid_test.index)"
   ]
  },
  {
   "cell_type": "markdown",
   "id": "8979daf1",
   "metadata": {},
   "source": [
    "Let's check what percent of our groups are hospitalized within 30 days."
   ]
  },
  {
   "cell_type": "code",
   "execution_count": 45,
   "id": "fa2c956e",
   "metadata": {},
   "outputs": [
    {
     "name": "stdout",
     "output_type": "stream",
     "text": [
      "Test prevalence(n = 14902):0.117\n",
      "Valid prevalence(n = 14901):0.113\n",
      "Train all prevalence(n = 69540):0.113\n"
     ]
    }
   ],
   "source": [
    "print('Test prevalence(n = %d):%.3f'%(len(df_test),calc_prevalence(df_test.OUTPUT_LABEL.values)))\n",
    "print('Valid prevalence(n = %d):%.3f'%(len(df_valid),calc_prevalence(df_valid.OUTPUT_LABEL.values)))\n",
    "print('Train all prevalence(n = %d):%.3f'%(len(df_train_all), calc_prevalence(df_train_all.OUTPUT_LABEL.values)))"
   ]
  },
  {
   "cell_type": "code",
   "execution_count": 46,
   "id": "660c8faf",
   "metadata": {},
   "outputs": [
    {
     "name": "stdout",
     "output_type": "stream",
     "text": [
      "all samples (n = 99343)\n"
     ]
    }
   ],
   "source": [
    "print('all samples (n = %d)'%len(df_data))\n",
    "assert len(df_data) == (len(df_test)+len(df_valid)+len(df_train_all)),'math didnt work'\n",
    "#Verifying that we used all the data."
   ]
  },
  {
   "cell_type": "code",
   "execution_count": 47,
   "id": "a7b16ed1",
   "metadata": {},
   "outputs": [
    {
     "name": "stdout",
     "output_type": "stream",
     "text": [
      "Train balanced prevalence(n = 15766):0.500\n"
     ]
    }
   ],
   "source": [
    "# split the training data into positive and negative\n",
    "rows_pos = df_train_all.OUTPUT_LABEL == 1\n",
    "df_train_pos = df_train_all.loc[rows_pos]\n",
    "df_train_neg = df_train_all.loc[~rows_pos]\n",
    "\n",
    "# merge the balanced data\n",
    "df_train = pd.concat([df_train_pos, df_train_neg.sample(n = len(df_train_pos), random_state = 42)],axis = 0)\n",
    "\n",
    "# shuffle the order of training samples \n",
    "df_train = df_train.sample(n = len(df_train), random_state = 42).reset_index(drop = True)\n",
    "\n",
    "print('Train balanced prevalence(n = %d):%.3f'%(len(df_train), calc_prevalence(df_train.OUTPUT_LABEL.values)))"
   ]
  },
  {
   "cell_type": "code",
   "execution_count": 48,
   "id": "065997ee",
   "metadata": {},
   "outputs": [],
   "source": [
    "#Saving data\n",
    "df_train_all.to_csv('df_train_all.csv',index=False)\n",
    "df_train.to_csv('df_train.csv',index=False)\n",
    "df_valid.to_csv('df_valid.csv',index=False)\n",
    "df_test.to_csv('df_test.csv',index=False)"
   ]
  },
  {
   "cell_type": "code",
   "execution_count": 49,
   "id": "94eb55f2",
   "metadata": {},
   "outputs": [
    {
     "name": "stdout",
     "output_type": "stream",
     "text": [
      "Training All shapes: (69540, 143)\n",
      "Training shapes: (15766, 143) (15766,)\n",
      "Validation shapes: (14901, 143) (14901,)\n"
     ]
    }
   ],
   "source": [
    "X_train = df_train[new_df].values\n",
    "X_train_all = df_train_all[new_df].values\n",
    "X_valid = df_valid[new_df].values\n",
    "\n",
    "y_train = df_train['OUTPUT_LABEL'].values\n",
    "y_valid = df_valid['OUTPUT_LABEL'].values\n",
    "\n",
    "print('Training All shapes:',X_train_all.shape)\n",
    "print('Training shapes:',X_train.shape, y_train.shape)\n",
    "print('Validation shapes:',X_valid.shape, y_valid.shape)"
   ]
  },
  {
   "cell_type": "markdown",
   "id": "15b284dc",
   "metadata": {},
   "source": [
    "Scaling data:"
   ]
  },
  {
   "cell_type": "code",
   "execution_count": 50,
   "id": "4e8f9b06",
   "metadata": {},
   "outputs": [
    {
     "data": {
      "text/plain": [
       "StandardScaler()"
      ]
     },
     "execution_count": 50,
     "metadata": {},
     "output_type": "execute_result"
    }
   ],
   "source": [
    "from sklearn.preprocessing import StandardScaler\n",
    "\n",
    "scaler  = StandardScaler()\n",
    "scaler.fit(X_train_all)"
   ]
  },
  {
   "cell_type": "markdown",
   "id": "51b34f4e",
   "metadata": {},
   "source": [
    "We will need this scaler for the test data, so let's save it using a package called pickle."
   ]
  },
  {
   "cell_type": "code",
   "execution_count": 51,
   "id": "5cbad238",
   "metadata": {},
   "outputs": [],
   "source": [
    "import pickle\n",
    "scalerfile = 'scaler.sav'\n",
    "pickle.dump(scaler, open(scalerfile, 'wb'))"
   ]
  },
  {
   "cell_type": "code",
   "execution_count": 52,
   "id": "7ba76211",
   "metadata": {},
   "outputs": [],
   "source": [
    "# load it back\n",
    "scaler = pickle.load(open(scalerfile, 'rb'))"
   ]
  },
  {
   "cell_type": "code",
   "execution_count": 53,
   "id": "754c528c",
   "metadata": {},
   "outputs": [],
   "source": [
    "# transforming our data matrices\n",
    "\n",
    "X_train_tf = scaler.transform(X_train)\n",
    "X_valid_tf = scaler.transform(X_valid)"
   ]
  },
  {
   "cell_type": "markdown",
   "id": "a01e668c",
   "metadata": {},
   "source": [
    "### Model Selection"
   ]
  },
  {
   "cell_type": "markdown",
   "id": "98d99380",
   "metadata": {},
   "source": [
    "We train a few machine learning models and use a few techniques for optimizing them. We will then select the best model based on performance on the validation set."
   ]
  },
  {
   "cell_type": "code",
   "execution_count": 54,
   "id": "997bf363",
   "metadata": {},
   "outputs": [],
   "source": [
    "from sklearn.metrics import roc_auc_score, accuracy_score, precision_score, recall_score\n",
    "def calc_specificity(y_actual, y_pred, thresh):\n",
    "    # calculates specificity\n",
    "    return sum((y_pred < thresh) & (y_actual == 0)) /sum(y_actual ==0)\n",
    "\n",
    "def print_report(y_actual, y_pred, thresh):\n",
    "    \n",
    "    auc = roc_auc_score(y_actual, y_pred)\n",
    "    accuracy = accuracy_score(y_actual, (y_pred > thresh))\n",
    "    recall = recall_score(y_actual, (y_pred > thresh))\n",
    "    precision = precision_score(y_actual, (y_pred > thresh))\n",
    "    specificity = calc_specificity(y_actual, y_pred, thresh)\n",
    "    print('AUC:%.3f'%auc)\n",
    "    print('accuracy:%.3f'%accuracy)\n",
    "    print('recall:%.3f'%recall)\n",
    "    print('precision:%.3f'%precision)\n",
    "    print('specificity:%.3f'%specificity)\n",
    "    print('prevalence:%.3f'%calc_prevalence(y_actual))\n",
    "    print(' ')\n",
    "    return auc, accuracy, recall, precision, specificity "
   ]
  },
  {
   "cell_type": "code",
   "execution_count": 55,
   "id": "92c3e080",
   "metadata": {},
   "outputs": [],
   "source": [
    "thresh = 0.5"
   ]
  },
  {
   "cell_type": "markdown",
   "id": "79e4003f",
   "metadata": {},
   "source": [
    "We will compare the performance of 7 machine learning models using default hyperparameters."
   ]
  },
  {
   "cell_type": "markdown",
   "id": "4ad510fa",
   "metadata": {},
   "source": [
    "#### K-Nearest Neighbors"
   ]
  },
  {
   "cell_type": "code",
   "execution_count": 56,
   "id": "ed423e1b",
   "metadata": {},
   "outputs": [
    {
     "name": "stdout",
     "output_type": "stream",
     "text": [
      "KNN\n",
      "Training:\n",
      "AUC:0.650\n",
      "accuracy:0.603\n",
      "recall:0.491\n",
      "precision:0.633\n",
      "specificity:0.673\n",
      "prevalence:0.500\n",
      " \n",
      "Validation:\n",
      "AUC:0.621\n",
      "accuracy:0.670\n",
      "recall:0.469\n",
      "precision:0.165\n",
      "specificity:0.655\n",
      "prevalence:0.113\n",
      " \n"
     ]
    }
   ],
   "source": [
    "from sklearn.neighbors import KNeighborsClassifier\n",
    "knn=KNeighborsClassifier(n_neighbors = 100)\n",
    "knn.fit(X_train_tf, y_train)\n",
    "\n",
    "y_train_preds = knn.predict_proba(X_train_tf)[:,1]\n",
    "y_valid_preds = knn.predict_proba(X_valid_tf)[:,1]\n",
    "\n",
    "print('KNN')\n",
    "print('Training:')\n",
    "knn_train_auc, knn_train_accuracy, knn_train_recall, \\\n",
    "    knn_train_precision, knn_train_specificity = print_report(y_train,y_train_preds, thresh)\n",
    "print('Validation:')\n",
    "knn_valid_auc, knn_valid_accuracy, knn_valid_recall, \\\n",
    "    knn_valid_precision, knn_valid_specificity = print_report(y_valid,y_valid_preds, thresh)"
   ]
  },
  {
   "cell_type": "markdown",
   "id": "c5fefd5b",
   "metadata": {},
   "source": [
    "#### Logistic Regression "
   ]
  },
  {
   "cell_type": "code",
   "execution_count": 57,
   "id": "25acb023",
   "metadata": {},
   "outputs": [
    {
     "name": "stdout",
     "output_type": "stream",
     "text": [
      "Logistic Regression\n",
      "Training:\n",
      "AUC:0.678\n",
      "accuracy:0.628\n",
      "recall:0.558\n",
      "precision:0.649\n",
      "specificity:0.698\n",
      "prevalence:0.500\n",
      " \n",
      "Validation:\n",
      "AUC:0.661\n",
      "accuracy:0.662\n",
      "recall:0.558\n",
      "precision:0.180\n",
      "specificity:0.675\n",
      "prevalence:0.113\n",
      " \n"
     ]
    }
   ],
   "source": [
    "from sklearn.linear_model import LogisticRegression\n",
    "lr=LogisticRegression(random_state = 42)\n",
    "lr.fit(X_train_tf, y_train)\n",
    "\n",
    "y_train_preds = lr.predict_proba(X_train_tf)[:,1]\n",
    "y_valid_preds = lr.predict_proba(X_valid_tf)[:,1]\n",
    "\n",
    "print('Logistic Regression')\n",
    "print('Training:')\n",
    "lr_train_auc, lr_train_accuracy, lr_train_recall, \\\n",
    "    lr_train_precision, lr_train_specificity = print_report(y_train,y_train_preds, thresh)\n",
    "print('Validation:')\n",
    "lr_valid_auc, lr_valid_accuracy, lr_valid_recall, \\\n",
    "    lr_valid_precision, lr_valid_specificity = print_report(y_valid,y_valid_preds, thresh)"
   ]
  },
  {
   "cell_type": "markdown",
   "id": "05b2f143",
   "metadata": {},
   "source": [
    "#### Stochastic Gradient Descent"
   ]
  },
  {
   "cell_type": "code",
   "execution_count": 58,
   "id": "efd7fb86",
   "metadata": {},
   "outputs": [
    {
     "name": "stdout",
     "output_type": "stream",
     "text": [
      "Stochastic Gradient Descend\n",
      "Training:\n",
      "AUC:0.676\n",
      "accuracy:0.624\n",
      "recall:0.550\n",
      "precision:0.645\n",
      "specificity:0.698\n",
      "prevalence:0.500\n",
      " \n",
      "Validation:\n",
      "AUC:0.661\n",
      "accuracy:0.664\n",
      "recall:0.553\n",
      "precision:0.180\n",
      "specificity:0.678\n",
      "prevalence:0.113\n",
      " \n"
     ]
    }
   ],
   "source": [
    "from sklearn.linear_model import SGDClassifier\n",
    "sgdc=SGDClassifier(loss = 'log',alpha = 0.1,random_state = 42)\n",
    "sgdc.fit(X_train_tf, y_train)\n",
    "\n",
    "y_train_preds = sgdc.predict_proba(X_train_tf)[:,1]\n",
    "y_valid_preds = sgdc.predict_proba(X_valid_tf)[:,1]\n",
    "\n",
    "print('Stochastic Gradient Descend')\n",
    "print('Training:')\n",
    "sgdc_train_auc, sgdc_train_accuracy, sgdc_train_recall, sgdc_train_precision, sgdc_train_specificity =print_report(y_train,y_train_preds, thresh)\n",
    "print('Validation:')\n",
    "sgdc_valid_auc, sgdc_valid_accuracy, sgdc_valid_recall, sgdc_valid_precision, sgdc_valid_specificity = print_report(y_valid,y_valid_preds, thresh)"
   ]
  },
  {
   "cell_type": "markdown",
   "id": "623c4e11",
   "metadata": {},
   "source": [
    "#### Naive Boyes"
   ]
  },
  {
   "cell_type": "code",
   "execution_count": 59,
   "id": "e42dcc12",
   "metadata": {},
   "outputs": [
    {
     "name": "stdout",
     "output_type": "stream",
     "text": [
      "Naive Bayes\n",
      "Training:\n",
      "AUC:0.508\n",
      "accuracy:0.506\n",
      "recall:0.989\n",
      "precision:0.503\n",
      "specificity:0.022\n",
      "prevalence:0.500\n",
      " \n",
      "Validation:\n",
      "AUC:0.505\n",
      "accuracy:0.129\n",
      "recall:0.988\n",
      "precision:0.114\n",
      "specificity:0.020\n",
      "prevalence:0.113\n",
      " \n"
     ]
    }
   ],
   "source": [
    "from sklearn.naive_bayes import GaussianNB\n",
    "\n",
    "nb = GaussianNB()\n",
    "nb.fit(X_train_tf, y_train)\n",
    "\n",
    "y_train_preds = nb.predict_proba(X_train_tf)[:,1]\n",
    "y_valid_preds = nb.predict_proba(X_valid_tf)[:,1]\n",
    "\n",
    "print('Naive Bayes')\n",
    "print('Training:')\n",
    "nb_train_auc, nb_train_accuracy, nb_train_recall, nb_train_precision, nb_train_specificity =print_report(y_train,y_train_preds, thresh)\n",
    "print('Validation:')\n",
    "nb_valid_auc, nb_valid_accuracy, nb_valid_recall, nb_valid_precision, nb_valid_specificity = print_report(y_valid,y_valid_preds, thresh)"
   ]
  },
  {
   "cell_type": "markdown",
   "id": "b5430d23",
   "metadata": {},
   "source": [
    "#### Decision Tree Classifier "
   ]
  },
  {
   "cell_type": "code",
   "execution_count": 60,
   "id": "f10c0ef6",
   "metadata": {},
   "outputs": [
    {
     "name": "stdout",
     "output_type": "stream",
     "text": [
      "Decision Tree\n",
      "Training:\n",
      "AUC:0.736\n",
      "accuracy:0.672\n",
      "recall:0.629\n",
      "precision:0.688\n",
      "specificity:0.713\n",
      "prevalence:0.500\n",
      " \n",
      "Validation:\n",
      "AUC:0.623\n",
      "accuracy:0.636\n",
      "recall:0.570\n",
      "precision:0.170\n",
      "specificity:0.642\n",
      "prevalence:0.113\n",
      " \n"
     ]
    }
   ],
   "source": [
    "from sklearn.tree import DecisionTreeClassifier\n",
    "\n",
    "tree = DecisionTreeClassifier(max_depth = 10, random_state = 42)\n",
    "tree.fit(X_train_tf, y_train)\n",
    "\n",
    "y_train_preds = tree.predict_proba(X_train_tf)[:,1]\n",
    "y_valid_preds = tree.predict_proba(X_valid_tf)[:,1]\n",
    "\n",
    "print('Decision Tree')\n",
    "print('Training:')\n",
    "tree_train_auc, tree_train_accuracy, tree_train_recall, tree_train_precision, tree_train_specificity =print_report(y_train,y_train_preds, thresh)\n",
    "print('Validation:')\n",
    "tree_valid_auc, tree_valid_accuracy, tree_valid_recall, tree_valid_precision, tree_valid_specificity = print_report(y_valid,y_valid_preds, thresh)"
   ]
  },
  {
   "cell_type": "markdown",
   "id": "92f6180b",
   "metadata": {},
   "source": [
    "#### Random Forest"
   ]
  },
  {
   "cell_type": "code",
   "execution_count": 61,
   "id": "1d60fd3d",
   "metadata": {},
   "outputs": [
    {
     "name": "stdout",
     "output_type": "stream",
     "text": [
      "Random Forest\n",
      "Training:\n",
      "AUC:0.696\n",
      "accuracy:0.643\n",
      "recall:0.612\n",
      "precision:0.652\n",
      "specificity:0.673\n",
      "prevalence:0.500\n",
      " \n",
      "Validation:\n",
      "AUC:0.657\n",
      "accuracy:0.629\n",
      "recall:0.604\n",
      "precision:0.173\n",
      "specificity:0.633\n",
      "prevalence:0.113\n",
      " \n"
     ]
    }
   ],
   "source": [
    "from sklearn.ensemble import RandomForestClassifier\n",
    "rf=RandomForestClassifier(max_depth = 6, random_state = 42)\n",
    "rf.fit(X_train_tf, y_train)\n",
    "\n",
    "y_train_preds = rf.predict_proba(X_train_tf)[:,1]\n",
    "y_valid_preds = rf.predict_proba(X_valid_tf)[:,1]\n",
    "\n",
    "print('Random Forest')\n",
    "print('Training:')\n",
    "rf_train_auc, rf_train_accuracy, rf_train_recall, rf_train_precision, rf_train_specificity =print_report(y_train,y_train_preds, thresh)\n",
    "print('Validation:')\n",
    "rf_valid_auc, rf_valid_accuracy, rf_valid_recall, rf_valid_precision, rf_valid_specificity = print_report(y_valid,y_valid_preds, thresh)"
   ]
  },
  {
   "cell_type": "markdown",
   "id": "3df167c5",
   "metadata": {},
   "source": [
    "#### Gradient Boosting Classifier"
   ]
  },
  {
   "cell_type": "code",
   "execution_count": 62,
   "id": "905b7053",
   "metadata": {},
   "outputs": [
    {
     "name": "stdout",
     "output_type": "stream",
     "text": [
      "Gradient Boosting Classifier\n",
      "Training:\n",
      "AUC:0.772\n",
      "accuracy:0.695\n",
      "recall:0.668\n",
      "precision:0.706\n",
      "specificity:0.722\n",
      "prevalence:0.500\n",
      " \n",
      "Validation:\n",
      "AUC:0.639\n",
      "accuracy:0.620\n",
      "recall:0.574\n",
      "precision:0.164\n",
      "specificity:0.626\n",
      "prevalence:0.113\n",
      " \n"
     ]
    }
   ],
   "source": [
    "from sklearn.ensemble import GradientBoostingClassifier\n",
    "gbc =GradientBoostingClassifier(n_estimators=100, learning_rate=1.0,\n",
    "     max_depth=3, random_state=42)\n",
    "gbc.fit(X_train_tf, y_train)\n",
    "\n",
    "y_train_preds = gbc.predict_proba(X_train_tf)[:,1]\n",
    "y_valid_preds = gbc.predict_proba(X_valid_tf)[:,1]\n",
    "\n",
    "print('Gradient Boosting Classifier')\n",
    "print('Training:')\n",
    "gbc_train_auc, gbc_train_accuracy, gbc_train_recall, gbc_train_precision, gbc_train_specificity = print_report(y_train,y_train_preds, thresh)\n",
    "print('Validation:')\n",
    "gbc_valid_auc, gbc_valid_accuracy, gbc_valid_recall, gbc_valid_precision, gbc_valid_specificity = print_report(y_valid,y_valid_preds, thresh)"
   ]
  },
  {
   "cell_type": "markdown",
   "id": "b5325db6",
   "metadata": {},
   "source": [
    "### Analyze results baseline models"
   ]
  },
  {
   "cell_type": "markdown",
   "id": "0260ac9c",
   "metadata": {},
   "source": [
    "Creating a dataframe with these results and plot the outcomes using seaborn. \n",
    "We will utilize the Area under the ROC curve (AUC) to evaluate the best model. "
   ]
  },
  {
   "cell_type": "code",
   "execution_count": 63,
   "id": "49901489",
   "metadata": {},
   "outputs": [],
   "source": [
    "df_results = pd.DataFrame({'classifier':['KNN','KNN','LR','LR','SGD','SGD','NB','NB','DT','DT','RF','RF','GB','GB'],\n",
    "                           'data_set':['train','valid']*7,\n",
    "                          'auc':[knn_train_auc, knn_valid_auc,lr_train_auc,lr_valid_auc,sgdc_train_auc,sgdc_valid_auc,nb_train_auc,nb_valid_auc,tree_train_auc,tree_valid_auc,rf_train_auc,rf_valid_auc,gbc_valid_auc,gbc_valid_auc,],\n",
    "                          'accuracy':[knn_train_accuracy, knn_valid_accuracy,lr_train_accuracy,lr_valid_accuracy,sgdc_train_accuracy,sgdc_valid_accuracy,nb_train_accuracy,nb_valid_accuracy,tree_train_accuracy,tree_valid_accuracy,rf_train_accuracy,rf_valid_accuracy,gbc_valid_accuracy,gbc_valid_accuracy,],\n",
    "                          'recall':[knn_train_recall, knn_valid_recall,lr_train_recall,lr_valid_recall,sgdc_train_recall,sgdc_valid_recall,nb_train_recall,nb_valid_recall,tree_train_recall,tree_valid_recall,rf_train_recall,rf_valid_recall,gbc_valid_recall,gbc_valid_recall,],\n",
    "                          'precision':[knn_train_precision, knn_valid_precision,lr_train_precision,lr_valid_precision,sgdc_train_precision,sgdc_valid_precision,nb_train_precision,nb_valid_precision,tree_train_precision,tree_valid_precision,rf_train_precision,rf_valid_precision,gbc_valid_auc,gbc_valid_precision,],\n",
    "                          'specificity':[knn_train_specificity, knn_valid_specificity,lr_train_specificity,lr_valid_specificity,sgdc_train_specificity,sgdc_valid_specificity,nb_train_specificity,nb_valid_specificity,tree_train_specificity,tree_valid_specificity,rf_train_specificity,rf_valid_specificity,gbc_valid_specificity,gbc_valid_specificity,]})"
   ]
  },
  {
   "cell_type": "code",
   "execution_count": 64,
   "id": "88137aa4",
   "metadata": {},
   "outputs": [],
   "source": [
    "import seaborn as sns\n",
    "import matplotlib.pyplot as plt\n",
    "sns.set(style=\"darkgrid\")"
   ]
  },
  {
   "cell_type": "code",
   "execution_count": 67,
   "id": "590b38d9",
   "metadata": {},
   "outputs": [
    {
     "data": {
      "image/png": "[encoded data removed]",
      "text/plain": [
       "<Figure size 640x480 with 1 Axes>"
      ]
     },
     "metadata": {},
     "output_type": "display_data"
    }
   ],
   "source": [
    "ax = sns.barplot(x=\"classifier\", y=\"auc\", hue=\"data_set\", data=df_results)\n",
    "ax.set_xlabel('Classifier',fontsize = 15)\n",
    "ax.set_ylabel('Accuracy', fontsize = 15)\n",
    "ax.tick_params(labelsize=15)\n",
    "\n",
    "# Put the legend out of the figure\n",
    "plt.legend(bbox_to_anchor=(1.05, 1), loc=2, borderaxespad=0., fontsize = 15)\n",
    "plt.show()"
   ]
  },
  {
   "cell_type": "markdown",
   "id": "6b8c952c",
   "metadata": {},
   "source": [
    "### Model Selection: Learning Curve"
   ]
  },
  {
   "cell_type": "code",
   "execution_count": 68,
   "id": "0737cfd1",
   "metadata": {},
   "outputs": [
    {
     "data": {
      "image/png": "[encoded data removed]",
      "text/plain": [
       "<Figure size 640x480 with 1 Axes>"
      ]
     },
     "metadata": {},
     "output_type": "display_data"
    }
   ],
   "source": [
    "import numpy as np\n",
    "from sklearn.model_selection import learning_curve\n",
    "from sklearn.model_selection import ShuffleSplit\n",
    "\n",
    "def plot_learning_curve(estimator, title, X, y, ylim=None, cv=None,\n",
    "                        n_jobs=1, train_sizes=np.linspace(.1, 1.0, 5)):\n",
    "    \"\"\"\n",
    "    Generate a simple plot of the test and training learning curve.\n",
    "\n",
    "    Parameters\n",
    "    ----------\n",
    "    estimator : object type that implements the \"fit\" and \"predict\" methods\n",
    "        An object of that type which is cloned for each validation.\n",
    "\n",
    "    title : string\n",
    "        Title for the chart.\n",
    "\n",
    "    X : array-like, shape (n_samples, n_features)\n",
    "        Training vector, where n_samples is the number of samples and\n",
    "        n_features is the number of features.\n",
    "\n",
    "    y : array-like, shape (n_samples) or (n_samples, n_features), optional\n",
    "        Target relative to X for classification or regression;\n",
    "        None for unsupervised learning.\n",
    "\n",
    "    ylim : tuple, shape (ymin, ymax), optional\n",
    "        Defines minimum and maximum yvalues plotted.\n",
    "\n",
    "    cv : int, cross-validation generator or an iterable, optional\n",
    "        Determines the cross-validation splitting strategy.\n",
    "        Possible inputs for cv are:\n",
    "          - None, to use the default 3-fold cross-validation,\n",
    "          - integer, to specify the number of folds.\n",
    "          - An object to be used as a cross-validation generator.\n",
    "          - An iterable yielding train/test splits.\n",
    "\n",
    "        For integer/None inputs, if ``y`` is binary or multiclass,\n",
    "        :class:`StratifiedKFold` used. If the estimator is not a classifier\n",
    "        or if ``y`` is neither binary nor multiclass, :class:`KFold` is used.\n",
    "\n",
    "        Refer :ref:`User Guide <cross_validation>` for the various\n",
    "        cross-validators that can be used here.\n",
    "\n",
    "    n_jobs : integer, optional\n",
    "        Number of jobs to run in parallel (default 1).\n",
    "    \"\"\"\n",
    "    plt.figure()\n",
    "    plt.title(title)\n",
    "    if ylim is not None:\n",
    "        plt.ylim(*ylim)\n",
    "    plt.xlabel(\"Training examples\")\n",
    "    plt.ylabel(\"Accuracy\")\n",
    "    train_sizes, train_scores, test_scores = learning_curve(\n",
    "        estimator, X, y, cv=cv, n_jobs=n_jobs, train_sizes=train_sizes, scoring = 'roc_auc')\n",
    "    train_scores_mean = np.mean(train_scores, axis=1)\n",
    "    train_scores_std = np.std(train_scores, axis=1)\n",
    "    test_scores_mean = np.mean(test_scores, axis=1)\n",
    "    test_scores_std = np.std(test_scores, axis=1)\n",
    "    plt.grid()\n",
    "\n",
    "    plt.fill_between(train_sizes, train_scores_mean - train_scores_std,\n",
    "                     train_scores_mean + train_scores_std, alpha=0.1,\n",
    "                     color=\"r\")\n",
    "    plt.fill_between(train_sizes, test_scores_mean - test_scores_std,\n",
    "                     test_scores_mean + test_scores_std, alpha=0.1, color=\"b\")\n",
    "    plt.plot(train_sizes, train_scores_mean, 'o-', color=\"r\",\n",
    "             label=\"Training score\")\n",
    "    plt.plot(train_sizes, test_scores_mean, 'o-', color=\"b\",\n",
    "             label=\"Cross-validation score\")\n",
    "\n",
    "    plt.legend(loc=\"best\")\n",
    "    return plt\n",
    "\n",
    "\n",
    "title = \"Learning Curves (Random Forest)\"\n",
    "# Cross validation with 5 iterations to get smoother mean test and train\n",
    "# score curves, each time with 20% data randomly selected as a validation set.\n",
    "cv = ShuffleSplit(n_splits=5, test_size=0.2, random_state=42)\n",
    "estimator = RandomForestClassifier(max_depth = 6, random_state = 42)\n",
    "plot_learning_curve(estimator, title, X_train_tf, y_train, ylim=(0.2, 1.01), cv=cv, n_jobs=4)\n",
    "\n",
    "plt.show()"
   ]
  },
  {
   "cell_type": "markdown",
   "id": "1167e8ec",
   "metadata": {},
   "source": [
    "In the case of random forest, we can see the training and validation scores are similar but they both have low scores. This is called high bias and is a sign of underfitting.\n",
    "\n"
   ]
  },
  {
   "cell_type": "markdown",
   "id": "bc7af323",
   "metadata": {},
   "source": [
    "### Model Selection: Feature Importance"
   ]
  },
  {
   "cell_type": "code",
   "execution_count": 71,
   "id": "7c3544db",
   "metadata": {},
   "outputs": [
    {
     "data": {
      "text/html": [
       "<div>\n",
       "<style scoped>\n",
       "    .dataframe tbody tr th:only-of-type {\n",
       "        vertical-align: middle;\n",
       "    }\n",
       "\n",
       "    .dataframe tbody tr th {\n",
       "        vertical-align: top;\n",
       "    }\n",
       "\n",
       "    .dataframe thead th {\n",
       "        text-align: right;\n",
       "    }\n",
       "</style>\n",
       "<table border=\"1\" class=\"dataframe\">\n",
       "  <thead>\n",
       "    <tr style=\"text-align: right;\">\n",
       "      <th></th>\n",
       "      <th>importance</th>\n",
       "    </tr>\n",
       "  </thead>\n",
       "  <tbody>\n",
       "    <tr>\n",
       "      <th>number_inpatient</th>\n",
       "      <td>0.356971</td>\n",
       "    </tr>\n",
       "    <tr>\n",
       "      <th>rosiglitazone_No</th>\n",
       "      <td>0.284600</td>\n",
       "    </tr>\n",
       "    <tr>\n",
       "      <th>rosiglitazone_Steady</th>\n",
       "      <td>0.238721</td>\n",
       "    </tr>\n",
       "    <tr>\n",
       "      <th>discharge_disposition_id_22</th>\n",
       "      <td>0.202499</td>\n",
       "    </tr>\n",
       "    <tr>\n",
       "      <th>repaglinide_No</th>\n",
       "      <td>0.169205</td>\n",
       "    </tr>\n",
       "  </tbody>\n",
       "</table>\n",
       "</div>"
      ],
      "text/plain": [
       "                             importance\n",
       "number_inpatient               0.356971\n",
       "rosiglitazone_No               0.284600\n",
       "rosiglitazone_Steady           0.238721\n",
       "discharge_disposition_id_22    0.202499\n",
       "repaglinide_No                 0.169205"
      ]
     },
     "execution_count": 71,
     "metadata": {},
     "output_type": "execute_result"
    }
   ],
   "source": [
    "feature_importances = pd.DataFrame(lr.coef_[0],\n",
    "                                   index = new_df,\n",
    "                                    columns=['importance']).sort_values('importance',\n",
    "                                                                        ascending=False)\n",
    "feature_importances.head()"
   ]
  },
  {
   "cell_type": "markdown",
   "id": "d5d86b50",
   "metadata": {},
   "source": [
    "#### Positive and Negative Feature Importance Score - Logistic Regression"
   ]
  },
  {
   "cell_type": "code",
   "execution_count": 72,
   "id": "f0e4e58a",
   "metadata": {},
   "outputs": [
    {
     "data": {
      "image/png": "[encoded data removed]",
      "text/plain": [
       "<Figure size 640x1200 with 1 Axes>"
      ]
     },
     "metadata": {},
     "output_type": "display_data"
    }
   ],
   "source": [
    "num = 50\n",
    "ylocs = np.arange(num)\n",
    "# get the feature importance for top num and sort in reverse order\n",
    "values_to_plot = feature_importances.iloc[:num].values.ravel()[::-1]\n",
    "feature_labels = list(feature_importances.iloc[:num].index)[::-1]\n",
    "\n",
    "plt.figure(num=None, figsize=(8, 15), dpi=80, facecolor='w', edgecolor='k');\n",
    "plt.barh(ylocs, values_to_plot, align = 'center')\n",
    "plt.ylabel('Features')\n",
    "plt.xlabel('Importance Score')\n",
    "plt.title('Positive Feature Importance Score - Logistic Regression')\n",
    "plt.yticks(ylocs, feature_labels)\n",
    "plt.show()"
   ]
  },
  {
   "cell_type": "code",
   "execution_count": 73,
   "id": "dda24bd9",
   "metadata": {},
   "outputs": [
    {
     "data": {
      "image/png": "[encoded data removed]",
      "text/plain": [
       "<Figure size 640x1200 with 1 Axes>"
      ]
     },
     "metadata": {},
     "output_type": "display_data"
    }
   ],
   "source": [
    "values_to_plot = feature_importances.iloc[-num:].values.ravel()\n",
    "feature_labels = list(feature_importances.iloc[-num:].index)\n",
    "\n",
    "plt.figure(num=None, figsize=(8, 15), dpi=80, facecolor='w', edgecolor='k');\n",
    "plt.barh(ylocs, values_to_plot, align = 'center')\n",
    "plt.ylabel('Features')\n",
    "plt.xlabel('Importance Score')\n",
    "plt.title('Negative Feature Importance Score - Logistic Regression')\n",
    "plt.yticks(ylocs, feature_labels)\n",
    "plt.show()\n"
   ]
  },
  {
   "cell_type": "markdown",
   "id": "9159d383",
   "metadata": {},
   "source": [
    "#### Feature Importance: Random Forest"
   ]
  },
  {
   "cell_type": "code",
   "execution_count": 74,
   "id": "ad5ed8af",
   "metadata": {},
   "outputs": [
    {
     "data": {
      "text/html": [
       "<div>\n",
       "<style scoped>\n",
       "    .dataframe tbody tr th:only-of-type {\n",
       "        vertical-align: middle;\n",
       "    }\n",
       "\n",
       "    .dataframe tbody tr th {\n",
       "        vertical-align: top;\n",
       "    }\n",
       "\n",
       "    .dataframe thead th {\n",
       "        text-align: right;\n",
       "    }\n",
       "</style>\n",
       "<table border=\"1\" class=\"dataframe\">\n",
       "  <thead>\n",
       "    <tr style=\"text-align: right;\">\n",
       "      <th></th>\n",
       "      <th>importance</th>\n",
       "    </tr>\n",
       "  </thead>\n",
       "  <tbody>\n",
       "    <tr>\n",
       "      <th>number_inpatient</th>\n",
       "      <td>0.280585</td>\n",
       "    </tr>\n",
       "    <tr>\n",
       "      <th>number_emergency</th>\n",
       "      <td>0.076902</td>\n",
       "    </tr>\n",
       "    <tr>\n",
       "      <th>discharge_disposition_id_22</th>\n",
       "      <td>0.070238</td>\n",
       "    </tr>\n",
       "    <tr>\n",
       "      <th>num_medications</th>\n",
       "      <td>0.060644</td>\n",
       "    </tr>\n",
       "    <tr>\n",
       "      <th>number_diagnoses</th>\n",
       "      <td>0.049529</td>\n",
       "    </tr>\n",
       "  </tbody>\n",
       "</table>\n",
       "</div>"
      ],
      "text/plain": [
       "                             importance\n",
       "number_inpatient               0.280585\n",
       "number_emergency               0.076902\n",
       "discharge_disposition_id_22    0.070238\n",
       "num_medications                0.060644\n",
       "number_diagnoses               0.049529"
      ]
     },
     "execution_count": 74,
     "metadata": {},
     "output_type": "execute_result"
    }
   ],
   "source": [
    "feature_importances = pd.DataFrame(rf.feature_importances_,\n",
    "                                   index = new_df,\n",
    "                                    columns=['importance']).sort_values('importance',\n",
    "                                                                        ascending=False)\n",
    "feature_importances.head()\n"
   ]
  },
  {
   "cell_type": "code",
   "execution_count": 75,
   "id": "339cffea",
   "metadata": {},
   "outputs": [
    {
     "data": {
      "image/png": "[encoded data removed]",
      "text/plain": [
       "<Figure size 640x1200 with 1 Axes>"
      ]
     },
     "metadata": {},
     "output_type": "display_data"
    }
   ],
   "source": [
    "num = 50\n",
    "ylocs = np.arange(num)\n",
    "# get the feature importance for top num and sort in reverse order\n",
    "values_to_plot = feature_importances.iloc[:num].values.ravel()[::-1]\n",
    "feature_labels = list(feature_importances.iloc[:num].index)[::-1]\n",
    "\n",
    "plt.figure(num=None, figsize=(8, 15), dpi=80, facecolor='w', edgecolor='k');\n",
    "plt.barh(ylocs, values_to_plot, align = 'center')\n",
    "plt.ylabel('Features')\n",
    "plt.xlabel('Importance Score')\n",
    "plt.title('Feature Importance Score - Random Forest')\n",
    "plt.yticks(ylocs, feature_labels)\n",
    "plt.show()"
   ]
  },
  {
   "cell_type": "markdown",
   "id": "99c5c8f6",
   "metadata": {},
   "source": [
    "### Model Selection: Hyperparameter Tuning"
   ]
  },
  {
   "cell_type": "markdown",
   "id": "2c95a19d",
   "metadata": {},
   "source": [
    "In this section, we will only optimize the hyper parameters for stochastic gradient descent, random forest and gradient boosting classifier."
   ]
  },
  {
   "cell_type": "code",
   "execution_count": 77,
   "id": "ed613dd4",
   "metadata": {},
   "outputs": [
    {
     "data": {
      "text/plain": [
       "{'bootstrap': True,\n",
       " 'ccp_alpha': 0.0,\n",
       " 'class_weight': None,\n",
       " 'criterion': 'gini',\n",
       " 'max_depth': 6,\n",
       " 'max_features': 'auto',\n",
       " 'max_leaf_nodes': None,\n",
       " 'max_samples': None,\n",
       " 'min_impurity_decrease': 0.0,\n",
       " 'min_samples_leaf': 1,\n",
       " 'min_samples_split': 2,\n",
       " 'min_weight_fraction_leaf': 0.0,\n",
       " 'n_estimators': 100,\n",
       " 'n_jobs': None,\n",
       " 'oob_score': False,\n",
       " 'random_state': 42,\n",
       " 'verbose': 0,\n",
       " 'warm_start': False}"
      ]
     },
     "execution_count": 77,
     "metadata": {},
     "output_type": "execute_result"
    }
   ],
   "source": [
    "rf.get_params()"
   ]
  },
  {
   "cell_type": "code",
   "execution_count": 81,
   "id": "7c39988d",
   "metadata": {},
   "outputs": [
    {
     "name": "stdout",
     "output_type": "stream",
     "text": [
      "{'n_estimators': range(200, 1000, 200), 'max_features': ['auto', 'sqrt'], 'max_depth': range(1, 10), 'min_samples_split': range(2, 10, 2), 'criterion': ['gini', 'entropy']}\n"
     ]
    }
   ],
   "source": [
    "# Creating a grid where we can test all possible combinations over a grid of values \n",
    "from sklearn.model_selection import RandomizedSearchCV\n",
    "\n",
    "# number of trees\n",
    "n_estimators = range(200,1000,200)\n",
    "# maximum number of features to use at each split\n",
    "max_features = ['auto','sqrt']\n",
    "# maximum depth of the tree\n",
    "max_depth = range(1,10,1)\n",
    "# minimum number of samples to split a node\n",
    "min_samples_split = range(2,10,2)\n",
    "# criterion for evaluating a split\n",
    "criterion = ['gini','entropy']\n",
    "\n",
    "# random grid\n",
    "\n",
    "random_grid = {'n_estimators':n_estimators,\n",
    "              'max_features':max_features,\n",
    "              'max_depth':max_depth,\n",
    "              'min_samples_split':min_samples_split,\n",
    "              'criterion':criterion}\n",
    "\n",
    "print(random_grid)"
   ]
  },
  {
   "cell_type": "code",
   "execution_count": 82,
   "id": "2a477955",
   "metadata": {},
   "outputs": [],
   "source": [
    "from sklearn.metrics import make_scorer, roc_auc_score\n",
    "auc_scoring = make_scorer(roc_auc_score)"
   ]
  },
  {
   "cell_type": "code",
   "execution_count": 83,
   "id": "70a991c9",
   "metadata": {},
   "outputs": [],
   "source": [
    "# create the randomized search cross-validation\n",
    "rf_random = RandomizedSearchCV(estimator = rf, param_distributions = random_grid, \n",
    "                               n_iter = 20, cv = 2, scoring=auc_scoring,\n",
    "                               verbose = 1, random_state = 42)"
   ]
  },
  {
   "cell_type": "code",
   "execution_count": 84,
   "id": "c0970918",
   "metadata": {},
   "outputs": [
    {
     "name": "stdout",
     "output_type": "stream",
     "text": [
      "Fitting 2 folds for each of 20 candidates, totalling 40 fits\n",
      "90.53545880317688\n"
     ]
    }
   ],
   "source": [
    "# fit the random search model (this will take a few minutes)\n",
    "t1 = time.time()\n",
    "rf_random.fit(X_train_tf, y_train)\n",
    "t2 = time.time()\n",
    "print(t2-t1)"
   ]
  },
  {
   "cell_type": "code",
   "execution_count": 85,
   "id": "62b9c580",
   "metadata": {},
   "outputs": [
    {
     "data": {
      "text/plain": [
       "{'n_estimators': 200,\n",
       " 'min_samples_split': 8,\n",
       " 'max_features': 'auto',\n",
       " 'max_depth': 8,\n",
       " 'criterion': 'entropy'}"
      ]
     },
     "execution_count": 85,
     "metadata": {},
     "output_type": "execute_result"
    }
   ],
   "source": [
    "rf_random.best_params_"
   ]
  },
  {
   "cell_type": "markdown",
   "id": "acb762f9",
   "metadata": {},
   "source": [
    "Analyzing the performance of the best model compared to the baseline model."
   ]
  },
  {
   "cell_type": "code",
   "execution_count": 86,
   "id": "486455b5",
   "metadata": {},
   "outputs": [
    {
     "name": "stdout",
     "output_type": "stream",
     "text": [
      "Baseline Random Forest\n",
      "Training AUC:0.696\n",
      "Validation AUC:0.657\n",
      "Optimized Random Forest\n",
      "Training AUC:0.717\n",
      "Validation AUC:0.660\n"
     ]
    }
   ],
   "source": [
    "y_train_preds = rf.predict_proba(X_train_tf)[:,1]\n",
    "y_valid_preds = rf.predict_proba(X_valid_tf)[:,1]\n",
    "\n",
    "print('Baseline Random Forest')\n",
    "rf_train_auc_base = roc_auc_score(y_train, y_train_preds)\n",
    "rf_valid_auc_base = roc_auc_score(y_valid, y_valid_preds)\n",
    "\n",
    "print('Training AUC:%.3f'%(rf_train_auc_base))\n",
    "print('Validation AUC:%.3f'%(rf_valid_auc_base))\n",
    "\n",
    "print('Optimized Random Forest')\n",
    "y_train_preds_random = rf_random.best_estimator_.predict_proba(X_train_tf)[:,1]\n",
    "y_valid_preds_random = rf_random.best_estimator_.predict_proba(X_valid_tf)[:,1]\n",
    "\n",
    "rf_train_auc = roc_auc_score(y_train, y_train_preds_random)\n",
    "rf_valid_auc = roc_auc_score(y_valid, y_valid_preds_random)\n",
    "\n",
    "print('Training AUC:%.3f'%(rf_train_auc))\n",
    "print('Validation AUC:%.3f'%(rf_valid_auc))"
   ]
  },
  {
   "cell_type": "code",
   "execution_count": 87,
   "id": "02d8be56",
   "metadata": {},
   "outputs": [
    {
     "name": "stderr",
     "output_type": "stream",
     "text": [
      "C:\\Users\\Tamanna Kapoor\\anaconda3\\lib\\site-packages\\sklearn\\linear_model\\_stochastic_gradient.py:696: ConvergenceWarning: Maximum number of iteration reached before convergence. Consider increasing max_iter to improve the fit.\n",
      "  warnings.warn(\n",
      "C:\\Users\\Tamanna Kapoor\\anaconda3\\lib\\site-packages\\sklearn\\linear_model\\_stochastic_gradient.py:696: ConvergenceWarning: Maximum number of iteration reached before convergence. Consider increasing max_iter to improve the fit.\n",
      "  warnings.warn(\n",
      "C:\\Users\\Tamanna Kapoor\\anaconda3\\lib\\site-packages\\sklearn\\linear_model\\_stochastic_gradient.py:696: ConvergenceWarning: Maximum number of iteration reached before convergence. Consider increasing max_iter to improve the fit.\n",
      "  warnings.warn(\n",
      "C:\\Users\\Tamanna Kapoor\\anaconda3\\lib\\site-packages\\sklearn\\linear_model\\_stochastic_gradient.py:696: ConvergenceWarning: Maximum number of iteration reached before convergence. Consider increasing max_iter to improve the fit.\n",
      "  warnings.warn(\n",
      "C:\\Users\\Tamanna Kapoor\\anaconda3\\lib\\site-packages\\sklearn\\linear_model\\_stochastic_gradient.py:696: ConvergenceWarning: Maximum number of iteration reached before convergence. Consider increasing max_iter to improve the fit.\n",
      "  warnings.warn(\n"
     ]
    },
    {
     "name": "stdout",
     "output_type": "stream",
     "text": [
      "9.623019933700562\n"
     ]
    }
   ],
   "source": [
    "penalty = ['none','l2','l1']\n",
    "max_iter = range(100,500,100)\n",
    "alpha = [0.001,0.003,0.01,0.03,0.1,0.3]\n",
    "random_grid_sgdc = {'penalty':penalty,\n",
    "              'max_iter':max_iter,\n",
    "              'alpha':alpha}\n",
    "# create the randomized search cross-validation\n",
    "sgdc_random = RandomizedSearchCV(estimator = sgdc, param_distributions = random_grid_sgdc, \n",
    "                                 n_iter = 20, cv = 2, scoring=auc_scoring,verbose = 0, \n",
    "                                 random_state = 42)\n",
    "\n",
    "t1 = time.time()\n",
    "sgdc_random.fit(X_train_tf, y_train)\n",
    "t2 = time.time()\n",
    "print(t2-t1)"
   ]
  },
  {
   "cell_type": "code",
   "execution_count": 89,
   "id": "2278dd97",
   "metadata": {},
   "outputs": [
    {
     "data": {
      "text/plain": [
       "{'penalty': 'l2', 'max_iter': 100, 'alpha': 0.1}"
      ]
     },
     "execution_count": 89,
     "metadata": {},
     "output_type": "execute_result"
    }
   ],
   "source": [
    "sgdc_random.best_params_"
   ]
  },
  {
   "cell_type": "code",
   "execution_count": 90,
   "id": "8c4b77c9",
   "metadata": {},
   "outputs": [
    {
     "name": "stdout",
     "output_type": "stream",
     "text": [
      "Baseline sgdc\n",
      "Training AUC:0.676\n",
      "Validation AUC:0.661\n",
      "Optimized sgdc\n",
      "Training AUC:0.676\n",
      "Validation AUC:0.661\n"
     ]
    }
   ],
   "source": [
    "y_train_preds = sgdc.predict_proba(X_train_tf)[:,1]\n",
    "y_valid_preds = sgdc.predict_proba(X_valid_tf)[:,1]\n",
    "\n",
    "print('Baseline sgdc')\n",
    "sgdc_train_auc_base = roc_auc_score(y_train, y_train_preds)\n",
    "sgdc_valid_auc_base = roc_auc_score(y_valid, y_valid_preds)\n",
    "\n",
    "print('Training AUC:%.3f'%(sgdc_train_auc_base))\n",
    "print('Validation AUC:%.3f'%(sgdc_valid_auc_base))\n",
    "print('Optimized sgdc')\n",
    "y_train_preds_random = sgdc_random.best_estimator_.predict_proba(X_train_tf)[:,1]\n",
    "y_valid_preds_random = sgdc_random.best_estimator_.predict_proba(X_valid_tf)[:,1]\n",
    "sgdc_train_auc = roc_auc_score(y_train, y_train_preds_random)\n",
    "sgdc_valid_auc = roc_auc_score(y_valid, y_valid_preds_random)\n",
    "\n",
    "print('Training AUC:%.3f'%(sgdc_train_auc))\n",
    "print('Validation AUC:%.3f'%(sgdc_valid_auc))"
   ]
  },
  {
   "cell_type": "code",
   "execution_count": 91,
   "id": "f0559ad4",
   "metadata": {},
   "outputs": [
    {
     "name": "stdout",
     "output_type": "stream",
     "text": [
      "194.44043135643005\n"
     ]
    }
   ],
   "source": [
    "# number of trees\n",
    "n_estimators = range(100,500,100)\n",
    "\n",
    "# maximum depth of the tree\n",
    "max_depth = range(1,5,1)\n",
    "\n",
    "# learning rate\n",
    "learning_rate = [0.001,0.01,0.1]\n",
    "\n",
    "# random grid\n",
    "\n",
    "random_grid_gbc = {'n_estimators':n_estimators,\n",
    "              'max_depth':max_depth,\n",
    "              'learning_rate':learning_rate}\n",
    "\n",
    "# create the randomized search cross-validation\n",
    "gbc_random = RandomizedSearchCV(estimator = gbc, param_distributions = random_grid_gbc,\n",
    "                                n_iter = 20, cv = 2, scoring=auc_scoring,\n",
    "                                verbose = 0, random_state = 42)\n",
    "\n",
    "t1 = time.time()\n",
    "gbc_random.fit(X_train_tf, y_train)\n",
    "t2 = time.time()\n",
    "print(t2-t1)"
   ]
  },
  {
   "cell_type": "code",
   "execution_count": 92,
   "id": "14df94ea",
   "metadata": {},
   "outputs": [
    {
     "data": {
      "text/plain": [
       "{'n_estimators': 100, 'max_depth': 3, 'learning_rate': 0.1}"
      ]
     },
     "execution_count": 92,
     "metadata": {},
     "output_type": "execute_result"
    }
   ],
   "source": [
    "gbc_random.best_params_"
   ]
  },
  {
   "cell_type": "code",
   "execution_count": 93,
   "id": "845dcd65",
   "metadata": {},
   "outputs": [
    {
     "name": "stdout",
     "output_type": "stream",
     "text": [
      "Baseline gbc\n",
      "Training AUC:0.772\n",
      "Validation AUC:0.639\n",
      "Optimized gbc\n",
      "Training AUC:0.698\n",
      "Validation AUC:0.669\n"
     ]
    }
   ],
   "source": [
    "y_train_preds = gbc.predict_proba(X_train_tf)[:,1]\n",
    "y_valid_preds = gbc.predict_proba(X_valid_tf)[:,1]\n",
    "\n",
    "print('Baseline gbc')\n",
    "gbc_train_auc_base = roc_auc_score(y_train, y_train_preds)\n",
    "gbc_valid_auc_base = roc_auc_score(y_valid, y_valid_preds)\n",
    "\n",
    "print('Training AUC:%.3f'%(gbc_train_auc_base))\n",
    "print('Validation AUC:%.3f'%(gbc_valid_auc_base))\n",
    "\n",
    "print('Optimized gbc')\n",
    "y_train_preds_random = gbc_random.best_estimator_.predict_proba(X_train_tf)[:,1]\n",
    "y_valid_preds_random = gbc_random.best_estimator_.predict_proba(X_valid_tf)[:,1]\n",
    "gbc_train_auc = roc_auc_score(y_train, y_train_preds_random)\n",
    "gbc_valid_auc = roc_auc_score(y_valid, y_valid_preds_random)\n",
    "\n",
    "print('Training AUC:%.3f'%(gbc_train_auc))\n",
    "print('Validation AUC:%.3f'%(gbc_valid_auc))"
   ]
  },
  {
   "cell_type": "markdown",
   "id": "d5d1f797",
   "metadata": {},
   "source": [
    "#### Hyperparameter Tuning: Results"
   ]
  },
  {
   "cell_type": "code",
   "execution_count": 100,
   "id": "61f1e465",
   "metadata": {},
   "outputs": [],
   "source": [
    "df_results = pd.DataFrame({'classifier':['SGD','SGD','RF','RF','GB','GB'],\n",
    "                           'data_set':['base','optimized']*3,\n",
    "                          'auc':[sgdc_valid_auc_base,sgdc_valid_auc,\n",
    "                                 rf_valid_auc_base,rf_valid_auc,\n",
    "                                 gbc_valid_auc_base,gbc_valid_auc,],\n",
    "                          })"
   ]
  },
  {
   "cell_type": "code",
   "execution_count": 101,
   "id": "27e54f85",
   "metadata": {},
   "outputs": [
    {
     "data": {
      "text/html": [
       "<div>\n",
       "<style scoped>\n",
       "    .dataframe tbody tr th:only-of-type {\n",
       "        vertical-align: middle;\n",
       "    }\n",
       "\n",
       "    .dataframe tbody tr th {\n",
       "        vertical-align: top;\n",
       "    }\n",
       "\n",
       "    .dataframe thead th {\n",
       "        text-align: right;\n",
       "    }\n",
       "</style>\n",
       "<table border=\"1\" class=\"dataframe\">\n",
       "  <thead>\n",
       "    <tr style=\"text-align: right;\">\n",
       "      <th></th>\n",
       "      <th>classifier</th>\n",
       "      <th>data_set</th>\n",
       "      <th>auc</th>\n",
       "    </tr>\n",
       "  </thead>\n",
       "  <tbody>\n",
       "    <tr>\n",
       "      <th>0</th>\n",
       "      <td>SGD</td>\n",
       "      <td>base</td>\n",
       "      <td>0.661396</td>\n",
       "    </tr>\n",
       "    <tr>\n",
       "      <th>1</th>\n",
       "      <td>SGD</td>\n",
       "      <td>optimized</td>\n",
       "      <td>0.661396</td>\n",
       "    </tr>\n",
       "    <tr>\n",
       "      <th>2</th>\n",
       "      <td>RF</td>\n",
       "      <td>base</td>\n",
       "      <td>0.656987</td>\n",
       "    </tr>\n",
       "    <tr>\n",
       "      <th>3</th>\n",
       "      <td>RF</td>\n",
       "      <td>optimized</td>\n",
       "      <td>0.660430</td>\n",
       "    </tr>\n",
       "    <tr>\n",
       "      <th>4</th>\n",
       "      <td>GB</td>\n",
       "      <td>base</td>\n",
       "      <td>0.638559</td>\n",
       "    </tr>\n",
       "    <tr>\n",
       "      <th>5</th>\n",
       "      <td>GB</td>\n",
       "      <td>optimized</td>\n",
       "      <td>0.669269</td>\n",
       "    </tr>\n",
       "  </tbody>\n",
       "</table>\n",
       "</div>"
      ],
      "text/plain": [
       "  classifier   data_set       auc\n",
       "0        SGD       base  0.661396\n",
       "1        SGD  optimized  0.661396\n",
       "2         RF       base  0.656987\n",
       "3         RF  optimized  0.660430\n",
       "4         GB       base  0.638559\n",
       "5         GB  optimized  0.669269"
      ]
     },
     "execution_count": 101,
     "metadata": {},
     "output_type": "execute_result"
    }
   ],
   "source": [
    "df_results"
   ]
  },
  {
   "cell_type": "code",
   "execution_count": 102,
   "id": "ebfd9b5b",
   "metadata": {},
   "outputs": [
    {
     "data": {
      "image/png": "[encoded data removed]",
      "text/plain": [
       "<Figure size 640x480 with 1 Axes>"
      ]
     },
     "metadata": {},
     "output_type": "display_data"
    }
   ],
   "source": [
    "ax = sns.barplot(x=\"classifier\", y=\"auc\", hue=\"data_set\", data=df_results)\n",
    "ax.set_xlabel('Classifier',fontsize = 15)\n",
    "ax.set_ylabel('AUC', fontsize = 15)\n",
    "ax.tick_params(labelsize=15)\n",
    "# Put the legend out of the figure\n",
    "plt.legend(bbox_to_anchor=(1.05, 1), loc=2, borderaxespad=0., fontsize = 15)\n",
    "\n",
    "plt.show()"
   ]
  },
  {
   "cell_type": "markdown",
   "id": "f8c489f9",
   "metadata": {},
   "source": [
    "### Model Selection: Best Classifier"
   ]
  },
  {
   "cell_type": "markdown",
   "id": "4c712d20",
   "metadata": {},
   "source": [
    "Here we will chose the gradient boosting classifier since it has the best AUC on the validation set. "
   ]
  },
  {
   "cell_type": "code",
   "execution_count": 103,
   "id": "8784864b",
   "metadata": {},
   "outputs": [],
   "source": [
    "pickle.dump(gbc_random.best_estimator_, open('best_classifier.pkl', 'wb'),protocol = 4)"
   ]
  },
  {
   "cell_type": "markdown",
   "id": "bebc2287",
   "metadata": {},
   "source": [
    "### Model Evaluation"
   ]
  },
  {
   "cell_type": "markdown",
   "id": "ee3c5117",
   "metadata": {},
   "source": [
    "Now that we have selected our best model. Let's evaluate the performance of the test set."
   ]
  },
  {
   "cell_type": "code",
   "execution_count": 104,
   "id": "5795935e",
   "metadata": {},
   "outputs": [],
   "source": [
    "X_test = df_test[new_df].values\n",
    "y_test = df_test['OUTPUT_LABEL'].values\n",
    "\n",
    "scaler = pickle.load(open('scaler.sav', 'rb'))\n",
    "X_test_tf = scaler.transform(X_test)"
   ]
  },
  {
   "cell_type": "code",
   "execution_count": 106,
   "id": "acd6185b",
   "metadata": {},
   "outputs": [],
   "source": [
    "best_model = pickle.load(open('best_classifier.pkl','rb'))"
   ]
  },
  {
   "cell_type": "code",
   "execution_count": 107,
   "id": "7f5aaff3",
   "metadata": {},
   "outputs": [],
   "source": [
    "y_train_preds = best_model.predict_proba(X_train_tf)[:,1]\n",
    "y_valid_preds = best_model.predict_proba(X_valid_tf)[:,1]\n",
    "y_test_preds = best_model.predict_proba(X_test_tf)[:,1]"
   ]
  },
  {
   "cell_type": "code",
   "execution_count": 108,
   "id": "cffe7919",
   "metadata": {},
   "outputs": [
    {
     "name": "stdout",
     "output_type": "stream",
     "text": [
      "Training:\n",
      "AUC:0.698\n",
      "accuracy:0.642\n",
      "recall:0.584\n",
      "precision:0.660\n",
      "specificity:0.699\n",
      "prevalence:0.500\n",
      " \n",
      "Validation:\n",
      "AUC:0.669\n",
      "accuracy:0.661\n",
      "recall:0.574\n",
      "precision:0.182\n",
      "specificity:0.672\n",
      "prevalence:0.113\n",
      " \n",
      "Test:\n",
      "AUC:0.666\n",
      "accuracy:0.653\n",
      "recall:0.576\n",
      "precision:0.185\n",
      "specificity:0.664\n",
      "prevalence:0.117\n",
      " \n"
     ]
    }
   ],
   "source": [
    "thresh = 0.5\n",
    "\n",
    "print('Training:')\n",
    "train_auc, train_accuracy, train_recall, train_precision, train_specificity = print_report(y_train,y_train_preds, thresh)\n",
    "print('Validation:')\n",
    "valid_auc, valid_accuracy, valid_recall, valid_precision, valid_specificity = print_report(y_valid,y_valid_preds, thresh)\n",
    "print('Test:')\n",
    "test_auc, test_accuracy, test_recall, test_precision, test_specificity = print_report(y_test,y_test_preds, thresh)"
   ]
  },
  {
   "cell_type": "code",
   "execution_count": 109,
   "id": "e650724a",
   "metadata": {},
   "outputs": [
    {
     "data": {
      "image/png": "[encoded data removed]",
      "text/plain": [
       "<Figure size 640x480 with 1 Axes>"
      ]
     },
     "metadata": {},
     "output_type": "display_data"
    }
   ],
   "source": [
    "from sklearn.metrics import roc_curve \n",
    "\n",
    "fpr_train, tpr_train, thresholds_train = roc_curve(y_train, y_train_preds)\n",
    "auc_train = roc_auc_score(y_train, y_train_preds)\n",
    "\n",
    "fpr_valid, tpr_valid, thresholds_valid = roc_curve(y_valid, y_valid_preds)\n",
    "auc_valid = roc_auc_score(y_valid, y_valid_preds)\n",
    "\n",
    "fpr_test, tpr_test, thresholds_test = roc_curve(y_test, y_test_preds)\n",
    "auc_test = roc_auc_score(y_test, y_test_preds)\n",
    "\n",
    "plt.plot(fpr_train, tpr_train, 'r-',label ='Train AUC:%.3f'%auc_train)\n",
    "plt.plot(fpr_valid, tpr_valid, 'b-',label ='Valid AUC:%.3f'%auc_valid)\n",
    "plt.plot(fpr_test, tpr_test, 'g-',label ='Test AUC:%.3f'%auc_test)\n",
    "plt.plot([0,1],[0,1],'k--')\n",
    "plt.xlabel('False Positive Rate')\n",
    "plt.ylabel('True Positive Rate')\n",
    "plt.legend()\n",
    "plt.show()"
   ]
  }
 ],
 "metadata": {
  "kernelspec": {
   "display_name": "Python 3 (ipykernel)",
   "language": "python",
   "name": "python3"
  },
  "language_info": {
   "codemirror_mode": {
    "name": "ipython",
    "version": 3
   },
   "file_extension": ".py",
   "mimetype": "text/x-python",
   "name": "python",
   "nbconvert_exporter": "python",
   "pygments_lexer": "ipython3",
   "version": "3.9.13"
  }
 },
 "nbformat": 4,
 "nbformat_minor": 5
}
